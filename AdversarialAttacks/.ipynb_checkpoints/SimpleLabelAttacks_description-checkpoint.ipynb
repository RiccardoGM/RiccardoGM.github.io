{
 "cells": [
  {
   "cell_type": "markdown",
   "id": "pharmaceutical-significance",
   "metadata": {},
   "source": [
    "# Simple label attack\n",
    "\n",
    "### Time: \n",
    "$t=1,\\ldots h$\n",
    "\n",
    "### Teacher: \n",
    "$y^{\\textrm{t}}=1$\n",
    "\n",
    "### Attacker's target: \n",
    "$y^{\\star}=-1$\n",
    "\n",
    "### Control: \n",
    "$\\mathbf{a}=(a_1, \\ldots a_h), \\, a_t\\in[0, 1]$\n",
    "\n",
    "### Attack: \n",
    "$y_t^{\\dagger}=y^{\\textrm{t}}(1-a_t) + y^{\\star}a_t$\n",
    "\n",
    "### Dynamics: \n",
    "$y_{t+1}^{\\mathrm{s}} = y_t^{\\dagger} \\beta + y_t^{\\mathrm{s}}(1-\\beta)$\n",
    "\n",
    "### Objective:\n",
    "$min_{\\mathbf{a}}\\sum_{t=1}^h \\gamma^t( g_{\\mathrm{nef}}(y_t^{\\mathrm{s}}) + \\lambda g_{\\mathrm{per}}(a_t))$\n",
    "<br>\n",
    "$g_{\\mathrm{nef}}(y_t^{\\mathrm{s}}) = \\frac{1}{2}(y_t^{\\mathrm{s}} - y^{\\star})^2 \\in [0, 2]$\n",
    "<br>\n",
    "$g_{\\mathrm{per}}(a_t) = a_t^2 \\in [0, 1]$\n",
    "\n",
    "### Initial conditions:\n",
    "$y_0^{\\mathrm{s}} = 0$\n",
    "<br>\n",
    "$\\mathbf{a}_0 = (0, \\ldots 0)$\n",
    "\n",
    "### Parameters:\n",
    "$\\gamma, \\beta, y^{\\star}, y^{\\mathrm{t}}, \\lambda, h$\n",
    "\n",
    "NB: The sequence of events is: $y_{0}^{\\mathrm{s}}, a_1, y_{1}^{\\mathrm{s}}, \\ldots$.\n",
    "$a_0$ and $y_0^{\\dagger}$ play no role, while at $t=h$ we perform the last update $y_{h}^{\\mathrm{s}} = y_{h}^{\\dagger} \\beta + y_{h-1}^{\\mathrm{s}}(1-\\beta)$."
   ]
  },
  {
   "cell_type": "code",
   "execution_count": 1,
   "id": "objective-grass",
   "metadata": {},
   "outputs": [],
   "source": [
    "!export PATH=/Library/TeX/texbin:$PATH"
   ]
  },
  {
   "cell_type": "code",
   "execution_count": null,
   "id": "incorporate-venue",
   "metadata": {},
   "outputs": [],
   "source": []
  }
 ],
 "metadata": {
  "kernelspec": {
   "display_name": "py3_6_12_V3_PYPI",
   "language": "python",
   "name": "py3_6_12_v3_pypi"
  },
  "language_info": {
   "codemirror_mode": {
    "name": "ipython",
    "version": 3
   },
   "file_extension": ".py",
   "mimetype": "text/x-python",
   "name": "python",
   "nbconvert_exporter": "python",
   "pygments_lexer": "ipython3",
   "version": "3.6.12"
  }
 },
 "nbformat": 4,
 "nbformat_minor": 5
}
