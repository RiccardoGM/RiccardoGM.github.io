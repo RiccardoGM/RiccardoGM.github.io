{
 "cells": [
  {
   "cell_type": "markdown",
   "id": "cleared-affect",
   "metadata": {},
   "source": [
    "# Simple label attack\n",
    "\n",
    "## Discrete time\n",
    "\n",
    "### Evolution:\n",
    "Time: $t=1,\\ldots h$\n",
    "\n",
    "Teacher: $y^{\\textrm{t}}=1$\n",
    "\n",
    "Attacker's target: $y^{\\star}=-1$\n",
    "\n",
    "Control: $\\mathbf{a}=(a_1, \\ldots a_h), \\, a_t\\in[0, 1]$\n",
    "\n",
    "Attack: $y_t^{\\dagger}=y^{\\textrm{t}}(1-a_t) + y^{\\star}a_t$\n",
    "\n",
    "Dynamics: $y_{t+1}^{\\mathrm{s}} = y_t^{\\dagger} \\beta + y_t^{\\mathrm{s}}(1-\\beta)$\n",
    "\n",
    "### Objective:\n",
    "$min_{\\mathbf{a}}\\sum_t \\gamma^t( g_{\\mathrm{nef}}(y_t^{\\mathrm{s}}) + \\lambda g_{\\mathrm{per}}(a_t))$\n",
    "<br>\n",
    "$g_{\\mathrm{nef}}(y_t^{\\mathrm{s}}) = \\frac{1}{2}(y_t^{\\mathrm{s}} - y^{\\star})^2 \\in [0, 2]$\n",
    "<br>\n",
    "$g_{\\mathrm{per}}(a_t) = a_t^2 \\in [0, 1]$\n",
    "\n",
    "### Initial conditions:\n",
    "$y_0^{\\mathrm{s}} = 0$\n",
    "<br>\n",
    "$\\mathbf{a}_0 = (0, \\ldots 0)$\n",
    "\n",
    "### Parameters:\n",
    "$\\gamma, \\beta, y^{\\star}, y^{\\mathrm{t}}, h$\n",
    "\n",
    "NB1: We do not care for $a_0$ and $y_0^{\\dagger}$, though for consistency with $\\mathbf{y}^{\\mathrm{s}}$ we shall use vectors with $h+1$ entries.\n",
    "\n",
    "NB2: The sequence of events is: $y_{0}^{\\mathrm{s}}, a_1, y_{1}^{\\mathrm{s}}, \\ldots$\n",
    "<br>\n",
    "At $t=0$ whe have $a_0$ and $y_0^{\\dagger}$ that play no role, while at $t=h$ we perform the last update $y_{h}^{\\mathrm{s}} = y_{h}^{\\dagger} \\beta + y_{h-1}^{\\mathrm{s}}(1-\\beta)$.\n",
    "\n",
    "### Long-time behaviour (trivial)\n",
    "We can write $y_t^{\\mathrm{s}}$ as:\n",
    "<br>\n",
    "$y_t^{\\mathrm{s}} = y_0^{\\mathrm{s}}(1-\\beta)^t + \\sum_{t'=1}^t y^{\\dagger}(a_{t'})\\beta(1-\\beta)^{t-t'}$\n",
    "<br>\n",
    "If we set $a_{t'}=0\\, \\forall \\, t'$, then $y^{\\dagger}(a_{t'}=0)=y^{\\mathrm{t}}$ and\n",
    "<br>\n",
    "$y_{\\infty}^{\\mathrm{s}}=\\lim_{h\\to\\infty} y_0^{\\mathrm{s}}(1-\\beta)^h + \\sum_{t'=1}^h y^{\\mathrm{t}}\\beta(1-\\beta)^{h-t'}=\\sum_{t'=0}^{\\infty} y^{\\mathrm{t}}\\beta(1-\\beta)^{t'}=y^{\\mathrm{t}}$\n",
    "<br>\n",
    "Similarly if $a_{t'}=1\\, \\forall \\, t'$, then $y^{\\dagger}(a_{t'}=1)=y^{\\star}$ and $y_{\\infty}^{\\mathrm{s}}=y^{\\star}$\n",
    "\n",
    "### Gradient of objective function\n",
    "$\\partial_{a_t} \\sum_{t'=1}^h \\gamma^{t'} (g_{\\mathrm{per}}(a_{t'}) + g_{\\mathrm{nef}}(y_{t'}^{\\mathrm{s}})) = 2 \\gamma^{t} a_t + \\partial_{a_t} \\sum_{t'=1}^h \\gamma^{t'} g_{\\mathrm{nef}}(y_{t'}^{\\mathrm{s}})$\n",
    "<br>\n",
    "$\\partial_{a_t} \\sum_{t'=1}^h \\gamma^{t'} g_{\\mathrm{nef}}(y_{t'}^{\\mathrm{s}}) = \\sum_{t'=t}^h \\gamma^{t'} \\partial_{a_t} g_{\\mathrm{nef}}(y_{t'}^{\\mathrm{s}}) = \\sum_{t'=t}^h \\gamma^{t'} \\partial_{a_t} \\frac{1}{2}(y_t^{\\mathrm{s}} - y^{\\star})^2 = \\sum_{t'=t}^h \\gamma^{t'} (y_{t'}^{\\mathrm{s}} - y^{\\star})\\partial_{a_t}y_{t'}^{\\mathrm{s}} = \\sum_{t'=t}^h \\gamma^{t'} (y_{t'}^{\\mathrm{s}} - y^{\\star})\\beta(1-\\beta)^{t'-t}(y^{\\star}-y^{\\mathrm{t}})$\n",
    "<br>\n",
    "as $\\partial_{a_t} y_{t'}^{\\mathrm{s}} = \\partial_{a_t} \\big(y_0^{\\mathrm{s}}(1-\\beta)^{t'} + \\sum_{t''=1}^{t'} y^{\\dagger}(a_{t''})\\beta(1-\\beta)^{t'-t''} \\big)= \\beta(1-\\beta)^{t'-t}\\partial_{a_t}y^{\\dagger}(a_{t}) = \\beta(1-\\beta)^{t'-t}\\partial_{a_t}(y^{\\mathrm{t}}(1-a_{t})+y^{\\star}a_t) = \\beta(1-\\beta)^{t'-t}(y^{\\star} - y^{\\mathrm{t}})$\n",
    "<br>\n",
    "Finally\n",
    "<br>\n",
    "$\\partial_{a_t} \\sum_{t'=1}^h \\gamma^{t'} (g_{\\mathrm{per}}(a_{t'}) + g_{\\mathrm{nef}}(y_{t'}^{\\mathrm{s}})) = 2 \\gamma^{t} a_t + \\sum_{t'=t}^h \\gamma^{t'} (y_{t'}^{\\mathrm{s}} - y^{\\star})\\beta(1-\\beta)^{t'-t}(y^{\\star}-y^{\\mathrm{t}})$\n",
    "\n",
    "## Continuous time\n",
    "\n",
    "### Evolution\n",
    "Time: $t\\in (0, T)$\n",
    "\n",
    "Control: $a(t)\\in[0, 1]$\n",
    "\n",
    "Attack: $y^{\\dagger}(t)=y^{\\textrm{t}}(1-a(t)) + y^{\\star}a(t)$\n",
    "\n",
    "Dynamics: $\\dot{y}_{\\mathrm{s}}(t) = f(y_{\\mathrm{s}}(t), a(t)) = \\beta (y^{\\dagger}(t) - y_{\\mathrm{s}}(t)) = \\beta y^{\\textrm{t}} + \\beta (y^{\\star} - y^{\\textrm{t}})a(t) - \\beta y_{\\mathrm{s}}(t))$\n",
    "\n",
    "### Objective\n",
    "\n",
    "$\\max_{a(t)} -\\int_0^T \\mathrm{d}t e^{-\\beta' t} g(t)$\n",
    "\n",
    "$g(t) = \\frac{1}{2}(y_{\\mathrm{s}}(t) - y^{\\star})^2 + a^2(t)$\n",
    "\n",
    "### Discretization\n",
    "$t = i \\Delta t, \\, i=0,\\ldots h, \\, \\Delta t = T / h$\n",
    "\n",
    "$y_{\\mathrm{s}}((i+1)\\Delta t) - y_{\\mathrm{s}}(i\\Delta t) = \\Delta t \\beta (y^{\\dagger}(i \\Delta t) - y_{\\mathrm{s}}(i \\Delta t))$ \n",
    "\n",
    "$e^{-\\beta'} \\to \\gamma \\, \\Rightarrow \\, \\int_0^T \\mathrm{d}t e^{-\\beta' t} g(t) \\to \\sum_i \\Delta t \\gamma^{i \\Delta t} g(i\\Delta t)$\n",
    "\n",
    "If $h=T, \\, \\Delta t = 1, \\, i\\to t$, get:\n",
    "\n",
    "$y_{\\mathrm{s}}(t+1) = y^{\\dagger}(t)\\beta + y_{\\mathrm{s}}(t))(1 - \\beta)$\n",
    "\n",
    "$\\sum_{t=0}^h \\gamma^{t} g(t)$\n",
    "\n",
    "### Long-time behaviour (trivial)\n",
    "Set $a(t)=0$, $y_{\\mathrm{s}}(0)=0$, get\n",
    "\n",
    "$\\dot{y}_{\\mathrm{s}}(t) = \\beta (y^{\\mathrm{t}} - y_{\\mathrm{s}}(t))$\n",
    "\n",
    "$y_{\\mathrm{s}}(t) = y^{\\mathrm{t}}(1 - e^{\\beta t})$\n",
    "\n",
    "Similarly for $a(t)=1$, get\n",
    "\n",
    "$\\dot{y}_{\\mathrm{s}}(t) = \\beta (y^{\\star} - y_{\\mathrm{s}}(t))$\n",
    "\n",
    "$y_{\\mathrm{s}}(t) = y^{\\star}(1 - e^{\\beta t})$\n",
    "\n",
    "More generally for $a(t)=a_{\\max}$, $y^{\\dagger}= y^{\\textrm{t}} + a_{\\max}(y^{\\star} - y^{\\textrm{t}})$, get\n",
    "\n",
    "$\\dot{y}_{\\mathrm{s}}(t) = \\beta (y^{\\dagger} - y_{\\mathrm{s}}(t))$\n",
    "\n",
    "$y_{\\mathrm{s}}(t) = y^{\\dagger}(1 - e^{\\beta t})$\n",
    "\n",
    "And so\n",
    "\n",
    "$\\lim_{t\\to\\infty} y_{\\mathrm{s}}(t) = y^{\\dagger}= y^{\\textrm{t}} + a_{\\max}(y^{\\star} - y^{\\textrm{t}})$\n",
    "\n",
    "$\\lim_{t\\to\\infty} g_{\\mathrm{nef}}(t) = \\frac{1}{2} (y^{\\dagger}-y^{\\star})^2 = \\frac{1}{2} (y^{\\textrm{t}} + a_{\\max}(y^{\\star} - y^{\\textrm{t}}) -y^{\\star})^2 = \\frac{1}{2}((a_{\\max}-1)(y^{\\star} - y^{\\textrm{t}}))^2$\n",
    "\n",
    "while $g_{\\mathrm{per}}(t) = a_{\\max}^2 \\, \\forall t$. Assume $g_{\\mathrm{nef}}(t)$ decreases monotonically, if $a_{\\max}^2 < \\lim_{t\\to\\infty} g_{\\mathrm{nef}}(t)$ then $g_{\\mathrm{per}}(t) = a_{\\max}^2 \\, \\forall t$ and we end up in the above situation. If this happens, a necessary condition is $a_{\\max}<\\frac{1}{1+\\sqrt{2}}(y^{\\star} - y^{\\textrm{t}})$; CHECK.\n",
    "\n",
    "### Lagrangian\n",
    "Impose dynamics as constraint via $\\lambda(t)$ (one multiplier per instant):\n",
    "\n",
    "$L = \\int_0^T \\mathrm{d}t (1-e^{-\\beta ' t})g(t) + \\lambda(t)(\\dot{y}_{\\mathrm{s}}(t) - f(y_{\\mathrm{s}}(t), a(t)))$\n",
    "\n",
    "Integrate by parts the $\\dot{y}_{\\mathrm{s}}(t)$ term, ingore endpoints, get:\n",
    "\n",
    "$I = \\int_0^T \\mathrm{d}t (1-e^{-\\beta ' t})g(t) - \\dot{\\lambda}(t)y_{\\mathrm{s}}(t) -\\lambda(t)f(y_{\\mathrm{s}}(t), a(t))$\n",
    "\n",
    "Maximize integral by maximizing integrand (Pontryagin's maximum principle), get necessary conditions:\n",
    "\n",
    "$\\partial_{y_{\\mathrm{s}}} I = (1-e^{-\\beta ' t})(y_{\\mathrm{s}}(t) - y^{\\star})-\\dot{\\lambda}(t) + \\lambda(t)\\beta = 0$\n",
    "\n",
    "$\\partial_{a} I = (1-e^{-\\beta ' t})2 a(t) - \\beta\\lambda(t)(y^{\\star} - y^{\\mathrm{t}}) = 0$\n",
    "\n",
    "with feasibility condition (eq. of motion):\n",
    "\n",
    "$\\dot{y}_{\\mathrm{s}} = \\beta y^{\\mathrm{t}} + \\beta(y^{\\star} - y^{\\mathrm{t}})a(t) - \\beta y_{\\mathrm{s}}(t)$\n",
    "\n",
    "Steady state solution, set $y^{\\star} = y^{\\mathrm{t}} + \\varepsilon$:\n",
    "\n",
    "$y_{\\mathrm{s}} = y^{\\mathrm{t}} + \\frac{\\epsilon^3}{2} + O(\\epsilon^5)$\n",
    "\n",
    "### Minization problem:\n",
    "Maximization -> discount future. Minimization -> augment future.\n",
    "\n",
    "$\\max_{a(t)} \\int_0^T \\mathrm{d}t e^{-\\beta ' t} \\ldots \\, \\to \\, \\min_{a(t)} \\int_0^T \\mathrm{d}t (1-e^{-\\beta ' t})\\ldots$"
   ]
  },
  {
   "cell_type": "markdown",
   "id": "modern-population",
   "metadata": {},
   "source": [
    "## Import statement"
   ]
  },
  {
   "cell_type": "code",
   "execution_count": 95,
   "id": "strange-telling",
   "metadata": {},
   "outputs": [],
   "source": [
    "import ipopt\n",
    "import scipy.sparse as sps\n",
    "import numpy as np\n",
    "import sympy as sym\n",
    "from collections import OrderedDict\n",
    "from opty.direct_collocation import Problem\n",
    "from opty.utils import building_docs\n",
    "\n",
    "import matplotlib.pyplot as plt"
   ]
  },
  {
   "cell_type": "markdown",
   "id": "molecular-dancing",
   "metadata": {},
   "source": [
    "## Steady state solution: SymPy"
   ]
  },
  {
   "cell_type": "code",
   "execution_count": 108,
   "id": "complimentary-detail",
   "metadata": {},
   "outputs": [
    {
     "data": {
      "text/latex": [
       "$\\displaystyle \\left[\\begin{matrix}\\beta lam + \\left(1 - e^{- \\beta_{1} t_{end}}\\right) \\left(- y_{star} + y_{stud}\\right)\\\\a \\left(2 - 2 e^{- \\beta_{1} t_{end}}\\right) - \\beta lam \\left(y_{star} - y_{teach}\\right)\\\\a \\left(y_{star} - y_{teach}\\right) - y_{stud} + y_{teach}\\end{matrix}\\right]$"
      ],
      "text/plain": [
       "Matrix([\n",
       "[    beta*lam + (1 - exp(-beta_1*t_end))*(-y_star + y_stud)],\n",
       "[a*(2 - 2*exp(-beta_1*t_end)) - beta*lam*(y_star - y_teach)],\n",
       "[                   a*(y_star - y_teach) - y_stud + y_teach]])"
      ]
     },
     "execution_count": 108,
     "metadata": {},
     "output_type": "execute_result"
    }
   ],
   "source": [
    "# Symbolic equations\n",
    "beta, beta_1, y_teach, y_star, epsilon = sym.symbols('beta, beta_1, y_teach, y_star, epsilon')\n",
    "y_stud, a, lam, t_end = sym.symbols('y_stud, a, lam, t_end')\n",
    "#y_stud, a, lam = sym.symbols('y_stud, a, lam', cls=sym.Function)\n",
    "\n",
    "eq = sym.Matrix([(1-sym.E**(-beta_1*t_end))*(y_stud - y_star) + lam * beta,\n",
    "           (1-sym.E**(-beta_1*t_end))*2*a - beta*lam*(y_star - y_teach),\n",
    "           y_teach + (y_star - y_teach)*a - y_stud])\n",
    "eq"
   ]
  },
  {
   "cell_type": "code",
   "execution_count": 110,
   "id": "looking-plaintiff",
   "metadata": {},
   "outputs": [],
   "source": [
    "Sol = sym.solve([(1-sym.E**(-beta_1*t_end))*(y_stud - y_star) + lam * beta,\n",
    "                 (1-sym.E**(-beta_1*t_end))*2*a - beta*lam*(y_star - y_teach),\n",
    "                 y_teach + (y_star - y_teach)*a - y_stud], y_stud, lam, a)\n",
    "expr = sym.simplify(Sol[y_stud])\n",
    "expr;"
   ]
  },
  {
   "cell_type": "code",
   "execution_count": 69,
   "id": "geological-variance",
   "metadata": {},
   "outputs": [
    {
     "data": {
      "text/latex": [
       "$\\displaystyle y_{teach} + \\frac{\\epsilon^{3}}{2} - \\frac{\\epsilon^{5}}{4} + O\\left(\\epsilon^{6}\\right)$"
      ],
      "text/plain": [
       "y_teach + epsilon**3/2 - epsilon**5/4 + O(epsilon**6)"
      ]
     },
     "execution_count": 69,
     "metadata": {},
     "output_type": "execute_result"
    }
   ],
   "source": [
    "expr = expr.subs(y_star, y_teach + epsilon)\n",
    "sym.simplify(sym.series(expr, epsilon))"
   ]
  },
  {
   "cell_type": "markdown",
   "id": "national-supplement",
   "metadata": {},
   "source": [
    "## Custom functions"
   ]
  },
  {
   "cell_type": "code",
   "execution_count": 234,
   "id": "basic-lending",
   "metadata": {},
   "outputs": [],
   "source": [
    "# ---- # ---- # ---- # ---- # ---- # ---- # ---- # ---- #\n",
    "\n",
    "\n",
    "def SetPlotParams(magnification=1.0, ratio=float(2.2/2.7), fontsize=11., ylabelsize=None, xlabelsize=None, lines_w=1.5):\n",
    "    \n",
    "    plt.style.use('ggplot')\n",
    "\n",
    "    if (ylabelsize==None):\n",
    "        ylabelsize = fontsize\n",
    "    if (xlabelsize==None):\n",
    "        xlabelsize = fontsize\n",
    "\n",
    "    ratio = ratio  # usually this is 2.2/2.7\n",
    "    fig_width = 2.9 * magnification # width in inches\n",
    "    fig_height = fig_width*ratio  # height in inches\n",
    "    fig_size = [fig_width,fig_height]\n",
    "    plt.rcParams['figure.figsize'] = fig_size\n",
    "    plt.rcParams['figure.autolayout'] = True\n",
    "\n",
    "    plt.rcParams['lines.linewidth'] = lines_w\n",
    "    #plt.rcParams['lines.markeredgewidth'] = 0.25\n",
    "    #plt.rcParams['lines.markersize'] = 1\n",
    "    plt.rcParams['lines.markeredgewidth'] = 1.\n",
    "    plt.rcParams['errorbar.capsize'] = 1 #1.5\n",
    "\n",
    "    plt.rcParams['font.size'] = fontsize\n",
    "    plt.rcParams['legend.frameon'] = False\n",
    "    plt.rcParams['legend.numpoints'] = 1\n",
    "    plt.rcParams['legend.markerscale'] = 1\n",
    "    plt.rcParams['legend.handlelength'] = 1.5\n",
    "    plt.rcParams['legend.labelspacing'] = 0.3\n",
    "    plt.rcParams['legend.columnspacing'] = 0.3\n",
    "    plt.rcParams['legend.fontsize'] = fontsize\n",
    "    plt.rcParams['axes.facecolor'] = '1'\n",
    "    plt.rcParams['axes.edgecolor'] = '0.0'\n",
    "    plt.rcParams['axes.linewidth'] = '0.7'\n",
    "\n",
    "    plt.rcParams['grid.color'] = '0.85'\n",
    "    plt.rcParams['grid.linestyle'] = '-'\n",
    "    plt.rcParams['grid.linewidth'] = '0.7'\n",
    "    plt.rcParams['grid.alpha'] = '1.'\n",
    "\n",
    "    plt.rcParams['axes.labelcolor'] = '0'\n",
    "    plt.rcParams['axes.labelsize'] = fontsize\n",
    "    plt.rcParams['axes.titlesize'] = fontsize\n",
    "    plt.rcParams['xtick.labelsize'] = xlabelsize\n",
    "    plt.rcParams['ytick.labelsize'] = ylabelsize\n",
    "    plt.rcParams['xtick.color'] = '0'\n",
    "    plt.rcParams['ytick.color'] = '0'\n",
    "\n",
    "    plt.rcParams['xtick.major.size'] = 3.\n",
    "    plt.rcParams['xtick.major.width'] = 0.7\n",
    "    plt.rcParams['xtick.minor.size'] = 0\n",
    "    plt.rcParams['ytick.major.size'] = 3.\n",
    "    plt.rcParams['ytick.major.width'] = 0.7\n",
    "    plt.rcParams['ytick.minor.size'] = 0\n",
    "    plt.rcParams['xtick.major.pad']= 5.\n",
    "    plt.rcParams['ytick.major.pad']= 5.\n",
    "\n",
    "    #plt.rcParams['font.sans-serif'] = 'Arial'\n",
    "    #plt.rcParams['font.serif'] = 'mc'\n",
    "    #plt.rcParams['text.usetex'] = False # set to True for TeX-like fonts\n",
    "    #plt.rc('font', family='serif')\n",
    "\n",
    "    #sn.set_context(\"paper\", rc={\"font.size\":11, \"axes.titlesize\":11, \"axes.labelsize\":11}) # uncomment for seaborn\n",
    "\n",
    "\n",
    "# ---- # ---- # ---- # ---- # ---- # ---- # ---- # ---- #\n",
    "\n",
    "\n",
    "# COLORS\n",
    "\n",
    "# Palette 1\n",
    "orange_pal1 = '#F5A962'\n",
    "light_blue_pal1 = '#3C8DAD'\n",
    "dark_blue_pal1 = '#125D98'\n",
    "grey_pal1 = '#DDDDDD'\n",
    "\n",
    "# Palette 2\n",
    "green_pal2 = '#01937C'\n",
    "light_green_pal2 = '#B6C867'\n",
    "\n",
    "# Palette 3\n",
    "red_purp_pal3 = '#D83A56'\n",
    "light_red_purp_pal3 = '#FF616D'\n",
    "\n",
    "# Palette in prova\n",
    "grey_palIP = '#AAAAAA'"
   ]
  },
  {
   "cell_type": "markdown",
   "id": "saving-portal",
   "metadata": {},
   "source": [
    "## Implementation"
   ]
  },
  {
   "cell_type": "code",
   "execution_count": 111,
   "id": "chemical-strike",
   "metadata": {},
   "outputs": [
    {
     "data": {
      "text/latex": [
       "$\\displaystyle \\frac{y_{star}^{3} - 2 y_{star}^{2} y_{teach} + y_{star} y_{teach}^{2} + 2 y_{teach}}{y_{star}^{2} - 2 y_{star} y_{teach} + y_{teach}^{2} + 2}$"
      ],
      "text/plain": [
       "(y_star**3 - 2*y_star**2*y_teach + y_star*y_teach**2 + 2*y_teach)/(y_star**2 - 2*y_star*y_teach + y_teach**2 + 2)"
      ]
     },
     "execution_count": 111,
     "metadata": {},
     "output_type": "execute_result"
    }
   ],
   "source": [
    "expr"
   ]
  },
  {
   "cell_type": "code",
   "execution_count": 227,
   "id": "particular-thompson",
   "metadata": {},
   "outputs": [
    {
     "name": "stdout",
     "output_type": "stream",
     "text": [
      "N states: 2\n",
      "y_star - y_teach: 1.0\n",
      "T = 1000\n",
      "N timesteps: 1001\n",
      "Time interval: 1.0\n",
      "Discounting future: False\n",
      "a max: 0.25\n",
      "Done!\n"
     ]
    }
   ],
   "source": [
    "# Global variables\n",
    "n_states = 2 # at least 2 NEEDED\n",
    "n_controls = 1\n",
    "epsilon = 1.\n",
    "teacher_target = 1\n",
    "attacker_target = teacher_target + epsilon\n",
    "a_max_th = abs(epsilon)/(1+np.sqrt(2)) # CHECK\n",
    "a_max = 0.25\n",
    "y_s_final_num = (attacker_target**3 - 2*(attacker_target**2)*teacher_target + attacker_target*teacher_target**2 + 2*teacher_target)\n",
    "y_s_final_denom = (attacker_target**2 - 2*attacker_target*teacher_target + teacher_target**2 + 2)\n",
    "y_s_final = y_s_final_num / y_s_final_denom\n",
    "y_s_final_bound = teacher_target + a_max * epsilon\n",
    "y_stud_0 = 0\n",
    "a_0 = 0\n",
    "discount_factor = 0.5 # this is beta' (or beta_1): the discounting time scale\n",
    "discounting = 0\n",
    "time_scale = 0.5 # this is beta: the relaxation time without control\n",
    "duration = 1000\n",
    "prefactor = 1 # 1 to have intervals of width 1\n",
    "h = prefactor*(duration + 1) # duration + 1 to have intervals of width 1\n",
    "interval = duration / (h-1)\n",
    "timesteps = np.linspace(0, duration, h) # t = 0, 1*interval, ...h*interval\n",
    "\n",
    "# Print information\n",
    "print('N states:', n_states)\n",
    "print('y_star - y_teach:', epsilon)\n",
    "print('T =', duration)\n",
    "print('N timesteps:', h)\n",
    "print('Time interval:', interval)\n",
    "print('Discounting future:', bool(discounting))\n",
    "print('a max:', a_max)\n",
    "\n",
    "# Symbolic equations of motion\n",
    "beta, y_teach, y_star, t = sym.symbols('beta, y_teach, y_star, t')\n",
    "y_stud, y_stud_velocity, a = sym.symbols('y_stud, y_stud_velocity, a', cls=sym.Function) # y_stud_velocity added as Opty requires at least two states (NEEDED)\n",
    "\n",
    "state_symbols = (y_stud_velocity(t), y_stud(t))\n",
    "constant_symbols = (beta, beta_1, y_teach, y_star)\n",
    "specified_symbols = (a(t), )\n",
    "\n",
    "eom = sym.Matrix([y_stud_velocity(t) - y_stud(t).diff(), \n",
    "                  y_stud(t).diff() - beta * y_teach - beta * (y_star - y_teach) * a(t) + beta * y_stud(t)])\n",
    "\n",
    "# Specify the known system parameters.\n",
    "par_map = OrderedDict()\n",
    "par_map[beta] = time_scale\n",
    "par_map[y_teach] = teacher_target\n",
    "par_map[y_star] = attacker_target\n",
    "\n",
    "# Specify the objective function and it's gradient.\n",
    "def obj(free):\n",
    "    \"\"\"Minimize the sum of the squares of the control + squared error / 2.\n",
    "       Cost depends on second state variable and control variables.\n",
    "    \"\"\"\n",
    "    Cost = 0\n",
    "    # Cost due to state variable\n",
    "    Cost_nef = 0.5*(free[(n_states-1)*h:n_states*h]-attacker_target)**2\n",
    "    Cost_nef = interval * Cost_nef * (1-discounting*np.exp(-discount_factor)**timesteps)\n",
    "    Cost = Cost + np.sum(Cost_nef)\n",
    "    # Cost due to control variables\n",
    "    for i in range(n_controls):\n",
    "        Cost_control = free[n_states*h+i*h:n_states*h+(i+1)*h]**2\n",
    "        Cost_control = interval * Cost_control * (1-discounting*np.exp(-discount_factor)**timesteps)\n",
    "        Cost = Cost + np.sum(Cost_control)\n",
    "    return Cost\n",
    "\n",
    "def obj_grad(free):\n",
    "    grad = np.zeros_like(free)\n",
    "    # Grad w.r.t. state variable\n",
    "    grad_nef = free[(n_states-1)*h:n_states*h]-attacker_target\n",
    "    grad_nef = interval * grad_nef  * (1-discounting*np.exp(-discount_factor)**timesteps)\n",
    "    grad[(n_states-1)*h:n_states*h] = grad_nef\n",
    "    # Grad w.r.t. control variables\n",
    "    for i in range(n_controls):\n",
    "        grad_control = 2.0 * free[n_states*h+i*h:n_states*h+(i+1)*h]\n",
    "        grad_control = interval * grad_control * (1-discounting*np.exp(-discount_factor)**timesteps)\n",
    "        grad[n_states*h+i*h:n_states*h+(i+1)*h] = grad_control\n",
    "    return grad\n",
    "\n",
    "# Specify the symbolic instance constraints, i.e. initial and end\n",
    "# conditions.\n",
    "instance_constraints = (y_stud(0.0) - y_stud_0,)\n",
    "\n",
    "# Create an optimization problem.\n",
    "prob = Problem(obj, obj_grad, eom, state_symbols, h, interval,\n",
    "               known_parameter_map=par_map,\n",
    "               instance_constraints=instance_constraints,\n",
    "               bounds={a(t): (0.0, a_max)})\n",
    "\n",
    "# Use a random positive initial guess.\n",
    "initial_guess = np.random.randn(prob.num_free)\n",
    "#initial_guess = np.ones(prob.num_free) # ADDED\n",
    "\n",
    "# Find the optimal solution.\n",
    "solution, info = prob.solve(initial_guess)\n",
    "\n",
    "print('Done!')"
   ]
  },
  {
   "cell_type": "code",
   "execution_count": 237,
   "id": "turkish-anderson",
   "metadata": {},
   "outputs": [
    {
     "data": {
      "image/png": "[encoded data removed]",
      "text/plain": [
       "<Figure size 375.84x250.56 with 1 Axes>"
      ]
     },
     "metadata": {},
     "output_type": "display_data"
    }
   ],
   "source": [
    "SetPlotParams(magnification=1.8, ratio=float(2./3.), fontsize=13, lines_w=2.)\n",
    "x_min = 0\n",
    "x_max = 50\n",
    "\n",
    "y_s = solution[(n_states-1)*h:n_states*h]\n",
    "a = solution[n_states*h:]\n",
    "\n",
    "y_min = 0\n",
    "y_max = max(max(max(y_s), attacker_target), y_s_final)*1.1\n",
    "\n",
    "plt.plot(timesteps, y_s, color=orange_pal1, label='$y_{\\mathrm{s}}(t)$')\n",
    "plt.plot(timesteps[1:], a[1:], color=light_blue_pal1, label='$a(t)$')\n",
    "plt.plot(timesteps, y_s_final*np.ones_like(timesteps), color=orange_pal1, ls='--', label='$y_{\\mathrm{s}}^{\\infty}$')\n",
    "plt.plot(timesteps, attacker_target*np.ones_like(timesteps), color=dark_blue_pal1, ls='--', label='$y^{\\star}$')\n",
    "plt.plot(timesteps, teacher_target*np.ones_like(timesteps), color=red_purp_pal3, ls='--', label='$y^{\\mathrm{t}}$')\n",
    "plt.plot(timesteps, y_s_final_bound*np.ones_like(timesteps), color=grey_palIP, ls='--', label='$y^{\\infty}_{\\mathrm{s, bound}}$')\n",
    "\n",
    "#plt.legend(bbox_to_anchor=(0., 1.02, 1, 0.2), loc=\"lower left\", ncol=4, mode=\"expand\")\n",
    "plt.legend(bbox_to_anchor=(1.04, 1), loc=\"upper left\", ncol=1)\n",
    "\n",
    "plt.xlabel('t')\n",
    "plt.xlim([x_min, x_max])\n",
    "plt.ylim([y_min, y_max])\n",
    "plt.grid(False)\n",
    "plt.show()"
   ]
  },
  {
   "cell_type": "code",
   "execution_count": 87,
   "id": "disturbed-state",
   "metadata": {},
   "outputs": [
    {
     "data": {
      "image/png": "[encoded data removed]",
      "text/plain": [
       "<Figure size 432x288 with 3 Axes>"
      ]
     },
     "metadata": {
      "needs_background": "light"
     },
     "output_type": "display_data"
    },
    {
     "data": {
      "image/png": "[encoded data removed]",
      "text/plain": [
       "<Figure size 432x288 with 3 Axes>"
      ]
     },
     "metadata": {
      "needs_background": "light"
     },
     "output_type": "display_data"
    },
    {
     "data": {
      "image/png": "[encoded data removed]",
      "text/plain": [
       "<Figure size 432x288 with 1 Axes>"
      ]
     },
     "metadata": {
      "needs_background": "light"
     },
     "output_type": "display_data"
    }
   ],
   "source": [
    "# Make some plots\n",
    "prob.plot_trajectories(solution)\n",
    "prob.plot_constraint_violations(solution)\n",
    "prob.plot_objective_value()"
   ]
  },
  {
   "cell_type": "code",
   "execution_count": null,
   "id": "sixth-scratch",
   "metadata": {},
   "outputs": [],
   "source": []
  }
 ],
 "metadata": {
  "kernelspec": {
   "display_name": "py3_6_12_V3_PYPI",
   "language": "python",
   "name": "py3_6_12_v3_pypi"
  },
  "language_info": {
   "codemirror_mode": {
    "name": "ipython",
    "version": 3
   },
   "file_extension": ".py",
   "mimetype": "text/x-python",
   "name": "python",
   "nbconvert_exporter": "python",
   "pygments_lexer": "ipython3",
   "version": "3.6.12"
  }
 },
 "nbformat": 4,
 "nbformat_minor": 5
}
