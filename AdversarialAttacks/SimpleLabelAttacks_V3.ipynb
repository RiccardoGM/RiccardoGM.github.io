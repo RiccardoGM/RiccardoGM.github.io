{
 "cells": [
  {
   "cell_type": "markdown",
   "id": "funky-pasta",
   "metadata": {},
   "source": [
    "# Simple label attack\n",
    "\n",
    "## Discrete time\n",
    "\n",
    "### Evolution:\n",
    "Time: $t=1,\\ldots h$\n",
    "\n",
    "Teacher: $y^{\\textrm{t}}=1$\n",
    "\n",
    "Attacker's target: $y^{\\star}=-1$\n",
    "\n",
    "Control: $\\mathbf{a}=(a_1, \\ldots a_h), \\, a_t\\in[0, 1]$\n",
    "\n",
    "Attack: $y_t^{\\dagger}=y^{\\textrm{t}}(1-a_t) + y^{\\star}a_t$\n",
    "\n",
    "Dynamics: $y_{t+1}^{\\mathrm{s}} = y_t^{\\dagger} \\beta + y_t^{\\mathrm{s}}(1-\\beta)$\n",
    "\n",
    "### Objective:\n",
    "$min_{\\mathbf{a}}\\sum_t \\gamma^{-t}( g_{\\mathrm{nef}}(y_t^{\\mathrm{s}}) + g_{\\mathrm{per}}(a_t))$\n",
    "<br>\n",
    "$g_{\\mathrm{nef}}(y_t^{\\mathrm{s}}) = \\frac{1}{2}(y_t^{\\mathrm{s}} - y^{\\star})^2$\n",
    "<br>\n",
    "$g_{\\mathrm{per}}(a_t) = a_t^2$\n",
    "\n",
    "### Initial conditions:\n",
    "$y_0^{\\mathrm{s}} = 0$\n",
    "\n",
    "### Parameters:\n",
    "$\\gamma, \\beta, y^{\\star}, y^{\\mathrm{t}}, h$\n",
    "\n",
    "NB1: We do not care for $a_0$ and $y_0^{\\dagger}$, though for consistency with $\\mathbf{y}^{\\mathrm{s}}$ we shall use vectors with $h+1$ entries.\n",
    "\n",
    "NB2: The sequence of events is: $y_{0}^{\\mathrm{s}}, a_1, y_{1}^{\\mathrm{s}}, \\ldots$\n",
    "<br>\n",
    "At $t=0$ whe have $a_0$ and $y_0^{\\dagger}$ that play no role, while at $t=h$ we perform the last update $y_{h}^{\\mathrm{s}} = y_{h}^{\\dagger} \\beta + y_{h-1}^{\\mathrm{s}}(1-\\beta)$.\n",
    "\n",
    "### Long-time behaviour (trivial)\n",
    "We can write $y_t^{\\mathrm{s}}$ as:\n",
    "<br>\n",
    "$y_t^{\\mathrm{s}} = y_0^{\\mathrm{s}}(1-\\beta)^t + \\sum_{t'=1}^t y^{\\dagger}(a_{t'})\\beta(1-\\beta)^{t-t'}$\n",
    "<br>\n",
    "If we set $a_{t'}=0\\, \\forall \\, t'$, then $y^{\\dagger}(a_{t'}=0)=y^{\\mathrm{t}}$ and\n",
    "<br>\n",
    "$y_{\\infty}^{\\mathrm{s}}=\\lim_{h\\to\\infty} y_0^{\\mathrm{s}}(1-\\beta)^h + \\sum_{t'=1}^h y^{\\mathrm{t}}\\beta(1-\\beta)^{h-t'}=\\sum_{t'=0}^{\\infty} y^{\\mathrm{t}}\\beta(1-\\beta)^{t'}=y^{\\mathrm{t}}$\n",
    "<br>\n",
    "Similarly if $a_{t'}=1\\, \\forall \\, t'$, then $y^{\\dagger}(a_{t'}=1)=y^{\\star}$ and $y_{\\infty}^{\\mathrm{s}}=y^{\\star}$\n",
    "\n",
    "### Gradient of objective function\n",
    "$\\partial_{a_t} \\sum_{t'=1}^h \\gamma^{-t'} (g_{\\mathrm{per}}(a_{t'}) + g_{\\mathrm{nef}}(y_{t'}^{\\mathrm{s}})) = 2 \\gamma^{-t} a_t + \\partial_{a_t} \\sum_{t'=1}^h \\gamma^{-t'} g_{\\mathrm{nef}}(y_{t'}^{\\mathrm{s}})$\n",
    "<br>\n",
    "$\\partial_{a_t} \\sum_{t'=1}^h \\gamma^{-t'} g_{\\mathrm{nef}}(y_{t'}^{\\mathrm{s}}) = \\sum_{t'=t}^h \\gamma^{-t'} \\partial_{a_t} g_{\\mathrm{nef}}(y_{t'}^{\\mathrm{s}}) = \\sum_{t'=t}^h \\gamma^{-t'} \\partial_{a_t} \\frac{1}{2}(y_t^{\\mathrm{s}} - y^{\\star})^2 = \\sum_{t'=t}^h \\gamma^{-t'} (y_{t'}^{\\mathrm{s}} - y^{\\star})\\partial_{a_t}y_{t'}^{\\mathrm{s}} = \\sum_{t'=t}^h \\gamma^{-t'} (y_{t'}^{\\mathrm{s}} - y^{\\star})\\beta(1-\\beta)^{t'-t}(y^{\\star}-y^{\\mathrm{t}})$\n",
    "<br>\n",
    "as $\\partial_{a_t} y_{t'}^{\\mathrm{s}} = \\partial_{a_t} \\big(y_0^{\\mathrm{s}}(1-\\beta)^{t'} + \\sum_{t''=1}^{t'} y^{\\dagger}(a_{t''})\\beta(1-\\beta)^{t'-t''} \\big)= \\beta(1-\\beta)^{t'-t}\\partial_{a_t}y^{\\dagger}(a_{t}) = \\beta(1-\\beta)^{t'-t}\\partial_{a_t}(y^{\\mathrm{t}}(1-a_{t})+y^{\\star}a_t) = \\beta(1-\\beta)^{t'-t}(y^{\\star} - y^{\\mathrm{t}})$\n",
    "<br>\n",
    "Finally\n",
    "<br>\n",
    "$\\partial_{a_t} \\sum_{t'=1}^h \\gamma^{-t'} (g_{\\mathrm{per}}(a_{t'}) + g_{\\mathrm{nef}}(y_{t'}^{\\mathrm{s}})) = 2 \\gamma^{-t} a_t + \\sum_{t'=t}^h \\gamma^{-t'} (y_{t'}^{\\mathrm{s}} - y^{\\star})\\beta(1-\\beta)^{t'-t}(y^{\\star}-y^{\\mathrm{t}})$\n",
    "\n",
    "## Continuous time\n",
    "\n",
    "### Evolution\n",
    "Time: $t\\in (0, T)$\n",
    "\n",
    "Control: $a(t)\\in[0, 1]$\n",
    "\n",
    "Attack: $y^{\\dagger}(t)=y^{\\textrm{t}}(1-a(t)) + y^{\\star}a(t)$\n",
    "\n",
    "Dynamics: $\\dot{y}_{\\mathrm{s}}(t) = f(y_{\\mathrm{s}}(t), a(t)) = \\beta (y^{\\dagger}(t) - y_{\\mathrm{s}}(t)) = \\beta y^{\\textrm{t}} + \\beta (y^{\\star} - y^{\\textrm{t}})a(t) - \\beta y_{\\mathrm{s}}(t))$\n",
    "\n",
    "### Objective\n",
    "\n",
    "$\\min_{a(t)} \\int_0^T \\mathrm{d}t e^{-\\beta' t} g(t)$\n",
    "\n",
    "$g(t) = \\frac{1}{2}(y_{\\mathrm{s}}(t) - y^{\\star})^2 + a^2(t)$\n",
    "\n",
    "### Discretization\n",
    "$t = i \\Delta t, \\, i=0,\\ldots h, \\, \\Delta t = T / h$\n",
    "\n",
    "$y_{\\mathrm{s}}((i+1)\\Delta t) - y_{\\mathrm{s}}(i\\Delta t) = \\Delta t \\beta (y^{\\dagger}(i \\Delta t) - y_{\\mathrm{s}}(i \\Delta t))$ \n",
    "\n",
    "$e^{-\\beta'} \\to \\gamma \\, \\Rightarrow \\, \\int_0^T \\mathrm{d}t e^{-\\beta' t} g(t) \\to \\sum_i^h \\Delta t \\gamma^{i \\Delta t} g(i\\Delta t)$\n",
    "\n",
    "If $h=T, \\, \\Delta t = 1, \\, i\\to t$, get:\n",
    "\n",
    "$y_{\\mathrm{s}}(t+1) = y^{\\dagger}(t)\\beta + y_{\\mathrm{s}}(t)(1 - \\beta)$\n",
    "\n",
    "$\\sum_{t=0}^T \\gamma^{-t} g(t)$\n",
    "\n",
    "### Long-time behaviour (trivial)\n",
    "Set $a(t)=0$, $y_{\\mathrm{s}}(0)=0$, get\n",
    "\n",
    "$\\dot{y}_{\\mathrm{s}}(t) = \\beta (y^{\\mathrm{t}} - y_{\\mathrm{s}}(t))$\n",
    "\n",
    "$y_{\\mathrm{s}}(t) = y^{\\mathrm{t}}(1 - e^{-\\beta t})$\n",
    "\n",
    "Similarly for $a(t)=1$, get\n",
    "\n",
    "$\\dot{y}_{\\mathrm{s}}(t) = \\beta (y^{\\star} - y_{\\mathrm{s}}(t))$\n",
    "\n",
    "$y_{\\mathrm{s}}(t) = y^{\\star}(1 - e^{-\\beta t})$\n",
    "\n",
    "More generally for $a(t)=a_{\\max}$, $y^{\\dagger}= y^{\\textrm{t}} + a_{\\max}(y^{\\star} - y^{\\textrm{t}})$, get\n",
    "\n",
    "$\\dot{y}_{\\mathrm{s}}(t) = \\beta (y^{\\dagger} - y_{\\mathrm{s}}(t))$\n",
    "\n",
    "$y_{\\mathrm{s}}(t) = y^{\\dagger}(1 - e^{-\\beta t})$\n",
    "\n",
    "And so\n",
    "\n",
    "$\\lim_{t\\to\\infty} y_{\\mathrm{s}}(t) = y^{\\dagger}= y^{\\textrm{t}} + a_{\\max}(y^{\\star} - y^{\\textrm{t}}) = y_{\\mathrm{s}, \\mathrm{bound}}^{\\infty}$\n",
    "\n",
    "$\\lim_{t\\to\\infty} g_{\\mathrm{nef}}(t) = \\frac{1}{2} (y^{\\dagger}-y^{\\star})^2 = \\frac{1}{2} (y^{\\textrm{t}} + a_{\\max}(y^{\\star} - y^{\\textrm{t}}) -y^{\\star})^2 = \\frac{1}{2}((a_{\\max}-1)(y^{\\star} - y^{\\textrm{t}}))^2$\n",
    "\n",
    "while $g_{\\mathrm{per}}(t) = a_{\\max}^2 \\, \\forall t$. If there exists $a^{\\mathrm{th}}_{\\max}$ such that if $a_{\\max}<a^{\\mathrm{th}}_{\\max}$ then $a(t)=a_{\\max} \\, \\forall \\, t$, then $a^{\\mathrm{th}}_{\\max}$ is given by $y_{\\mathrm{s}, \\mathrm{bound}}^{\\infty} = y_{\\mathrm{s}}^{\\infty}$ - see below (Lagrangian gives eq. of motion)."
   ]
  },
  {
   "cell_type": "markdown",
   "id": "restricted-secretary",
   "metadata": {},
   "source": [
    "### Lagrangian\n",
    "Impose dynamics as constraint via $\\lambda(t)$ (one multiplier per instant):\n",
    "\n",
    "$L = \\int_0^T \\mathrm{d}t \\big[e^{-\\beta' t}g(y_{\\mathrm{s}}(t), a(t)) - \\lambda(t)(\\dot{y}_{\\mathrm{s}}(t) - f(y_{\\mathrm{s}}(t), a(t)))\\big]$\n",
    "\n",
    "Integrate by parts the $\\dot{y}_{\\mathrm{s}}(t)$ term, get:\n",
    "\n",
    "$I = \\int_0^T \\mathrm{d}t \\big[e^{-\\beta' t}g(y_{\\mathrm{s}}(t), a(t)) + \\dot{\\lambda}(t)y_{\\mathrm{s}}(t) +\\lambda(t)f(y_{\\mathrm{s}}(t), a(t))\\big] + \\lambda(0)y_{\\mathrm{s}}(0) - \\lambda(T)y_{\\mathrm{s}}(T)$\n",
    "\n",
    "Maximize integral by maximizing integrand (Pontryagin's maximum principle), get necessary conditions:\n",
    "\n",
    "1. $\\partial_{y_{\\mathrm{s}}} I = e^{-\\beta' t}(y_{\\mathrm{s}}(t) - y^{\\star})+\\dot{\\lambda}(t) - \\lambda(t)\\beta = 0$\n",
    "\n",
    "2. $\\partial_{a} I = e^{-\\beta' t}2 a(t) + \\beta\\lambda(t)(y^{\\star} - y^{\\mathrm{t}}) = 0$\n",
    "\n",
    "with feasibility condition (eq. of motion):\n",
    "\n",
    "3. $\\dot{y}_{\\mathrm{s}} = \\beta y^{\\mathrm{t}} + \\beta(y^{\\star} - y^{\\mathrm{t}})a(t) - \\beta y_{\\mathrm{s}}(t)$\n",
    "\n",
    "and transversality condition (take $\\partial_{y_{\\mathrm{s}}(T)}$ but not $\\partial_{y_{\\mathrm{s}}(0)}$ as ${y_{\\mathrm{s}}(0)}$ is fixed):\n",
    "\n",
    "4. $\\partial_{y_{\\mathrm{s}}(T)} I = e^{-\\beta' T}(y_{\\mathrm{s}}(T) - y^{\\star})+\\dot{\\lambda}(T) - \\lambda(T)\\beta -\\lambda(T) =|_{\\mathrm{via\\, 2.}} -\\lambda(T)= 0 $\n",
    "\n",
    "Final state solution:\n",
    "\n",
    "$\\lambda(T)= 0$ (from 4.)\n",
    "\n",
    "$a(T)= 0$ (from 2.)\n",
    "\n",
    "$e^{-\\beta' T}(y_{\\mathrm{s}}(T) - y^{\\star})+\\dot{\\lambda}(T) = 0$ (from 1.)\n",
    "\n",
    "$\\dot{y}_{\\mathrm{s}}(T) = \\beta y^{\\mathrm{t}} - \\beta y_{\\mathrm{s}}(T)$ (from 3.)\n",
    "\n",
    "Can solve to find $y_{\\mathrm{s}}(T)$?\n",
    "\n",
    "Steady state solution ($t\\to t_{\\mathrm{end}}$) given by:\n",
    "\n",
    "$e^{-\\beta' t_{\\mathrm{end}}}(y_{\\mathrm{s}}(t_{\\mathrm{end}}) - y^{\\star}) - \\lambda(t_{\\mathrm{end}})\\beta = 0$\n",
    "\n",
    "$e^{-\\beta' t_{\\mathrm{end}}}2 a(t_{\\mathrm{end}}) + \\beta\\lambda(t_{\\mathrm{end}})(y^{\\star} - y^{\\mathrm{t}}) = 0$\n",
    "\n",
    "$\\beta y^{\\mathrm{t}} + \\beta(y^{\\star} - y^{\\mathrm{t}})a(t_{\\mathrm{end}}) - \\beta y_{\\mathrm{s}}(t_{\\mathrm{end}}) = 0$\n",
    "\n",
    "which leads to:\n",
    "\n",
    "1. (ss) $y_{\\mathrm{s}}(t_{\\mathrm{end}}) = \\frac{{y^{\\star}}^3 - 2{y^{\\star}}^2{y^{\\mathrm{t}}} + {y^{\\star}}{y^{\\mathrm{t}}}^2 + 2{y^{\\mathrm{t}}}}{(y^{\\star}-y^{\\mathrm{t}})^2+2}$\n",
    "\n",
    "2. (ss) $\\lambda(t_{\\mathrm{end}}) = \\frac{2 e^{-\\beta ' t_{\\mathrm{end}}} (y^{\\mathrm{t}} - y^{\\star}) }{\\beta((y^{\\star}-y^{\\mathrm{t}})^2+2)}$\n",
    "\n",
    "3. (ss) $a(t_{\\mathrm{end}}) = \\frac{(y^{\\star}-y^{\\mathrm{t}})^2}{(y^{\\star}-y^{\\mathrm{t}})^2+2}$\n",
    "\n",
    "and satisfies $\\lambda(t_{\\mathrm{end}})=0$ only for $t_{\\mathrm{end}}\\to\\infty$ and $\\beta>0$.\n",
    "\n",
    "Set $y^{\\star} = y^{\\mathrm{t}} + \\varepsilon$, get:\n",
    "\n",
    "$y_{\\mathrm{s}} = y^{\\mathrm{t}} + \\frac{\\epsilon^3}{2} + O(\\epsilon^5)$\n",
    "\n",
    "Set $y^{\\star} = y^{\\mathrm{t}}/\\varepsilon$ ($|y^{\\mathrm{t}} / y^{\\star}|\\ll 1$), get:\n",
    "\n",
    "$y_{\\mathrm{s}} = \\frac{y^{\\mathrm{t}}}{\\varepsilon} - \\frac{2\\epsilon}{y^{\\mathrm{t}}} + O(\\epsilon^2)= y^{\\star} - \\frac{2\\epsilon}{y^{\\mathrm{t}}} + O(\\epsilon^2)$ \n",
    "\n",
    "Threshold for $a_{\\max}$ given by:\n",
    "\n",
    "$y_{\\mathrm{s}, \\mathrm{bound}}^{\\infty} = y_{\\mathrm{s}}(t_{\\mathrm{end}})$\n",
    "\n",
    "$y^{\\textrm{t}} + a^{\\mathrm{th}}_{\\max}(y^{\\star} - y^{\\textrm{t}}) = \\frac{{y^{\\star}}^3 - 2{y^{\\star}}^2{y^{\\mathrm{t}}} + {y^{\\star}}{y^{\\mathrm{t}}}^2 + 2{y^{\\mathrm{t}}}}{(y^{\\star}-y^{\\mathrm{t}})^2+2}$\n",
    "\n",
    "$a^{\\mathrm{th}}_{\\max} = a(t_{\\mathrm{end}}) = \\frac{(y^{\\star}-y^{\\mathrm{t}})^2}{(y^{\\star}-y^{\\mathrm{t}})^2+2}$"
   ]
  },
  {
   "cell_type": "markdown",
   "id": "settled-truck",
   "metadata": {},
   "source": [
    "### Hamiltonian (Current Value) \n",
    "\n",
    "$L = \\int_0^T \\mathrm{d}t \\big[e^{-\\beta' t}g(y_{\\mathrm{s}}(t), a(t)) - \\lambda(t)(\\dot{y}_{\\mathrm{s}}(t) - f(y_{\\mathrm{s}}(t), a(t)))\\big]$\n",
    "\n",
    "Define the Current Value Hamiltonian as:\n",
    "\n",
    "$\\bar{H} = g(y_{\\mathrm{s}}(t), a(t)) + \\mu(t)f(y_{\\mathrm{s}}(t), a(t))$\n",
    "\n",
    "with $\\mu(t) = e^{\\beta ' t} \\lambda(t)$. Necessary conditions for optimality are given by $\\partial_{a} \\bar{H} = 0$, and $\\partial_{y_{\\mathrm{s}}} \\bar{H} = -\\dot{\\mu}(t) + \\beta ' \\mu(t)$. The equations of motion are then given by:\n",
    "\n",
    "1. $\\dot{y}_{\\mathrm{s}}(t) = \\beta y^{\\mathrm{t}} + \\beta(y^{\\star} - y^{\\mathrm{t}})a(t) - \\beta y_{\\mathrm{s}}(t)$\n",
    "\n",
    "2. $\\dot{\\mu}(t) = (\\beta+\\beta ')\\mu(t) - y_{\\mathrm{s}}(t) + y^{\\star}$\n",
    "\n",
    "3. $a(t) = -\\frac{\\beta}{2}(y^{\\star} - y^{\\mathrm{t}})\\mu(t)$"
   ]
  },
  {
   "cell_type": "markdown",
   "id": "prime-dietary",
   "metadata": {},
   "source": [
    "## Import statements"
   ]
  },
  {
   "cell_type": "code",
   "execution_count": 298,
   "id": "absent-perception",
   "metadata": {},
   "outputs": [],
   "source": [
    "import ipopt\n",
    "import scipy.sparse as sps\n",
    "from scipy.integrate import odeint\n",
    "\n",
    "import numpy as np\n",
    "import sympy as sym\n",
    "from collections import OrderedDict\n",
    "from opty.direct_collocation import Problem\n",
    "from opty.utils import building_docs\n",
    "\n",
    "import matplotlib.pyplot as plt"
   ]
  },
  {
   "cell_type": "markdown",
   "id": "located-scale",
   "metadata": {},
   "source": [
    "## Steady state solution: SymPy"
   ]
  },
  {
   "cell_type": "code",
   "execution_count": 304,
   "id": "under-simple",
   "metadata": {},
   "outputs": [
    {
     "data": {
      "text/latex": [
       "$\\displaystyle \\left[\\begin{matrix}- \\beta lam + \\left(- y_{star} + y_{stud}\\right) e^{- \\beta_{1} t_{end}}\\\\2 a e^{- \\beta_{1} t_{end}} + \\beta lam \\left(y_{star} - y_{teach}\\right)\\\\a \\left(y_{star} - y_{teach}\\right) - y_{stud} + y_{teach}\\end{matrix}\\right]$"
      ],
      "text/plain": [
       "Matrix([\n",
       "[   -beta*lam + (-y_star + y_stud)*exp(-beta_1*t_end)],\n",
       "[2*a*exp(-beta_1*t_end) + beta*lam*(y_star - y_teach)],\n",
       "[             a*(y_star - y_teach) - y_stud + y_teach]])"
      ]
     },
     "execution_count": 304,
     "metadata": {},
     "output_type": "execute_result"
    }
   ],
   "source": [
    "# Symbolic equations\n",
    "beta, beta_1 = sym.symbols('beta, beta_1', positive=True)\n",
    "y_teach, y_star, epsilon = sym.symbols('y_teach, y_star, epsilon')\n",
    "y_stud, a, lam, mu, t_end = sym.symbols('y_stud, a, lam, mu, t_end')\n",
    "#y_stud, a, lam = sym.symbols('y_stud, a, lam', cls=sym.Function)\n",
    "\n",
    "eq_Lag = sym.Matrix([sym.E**(-beta_1*t_end)*(y_stud - y_star) - lam * beta,\n",
    "           sym.E**(-beta_1*t_end)*2*a + beta*lam*(y_star - y_teach),\n",
    "           y_teach + (y_star - y_teach)*a - y_stud])\n",
    "\n",
    "eq_Ham = sym.Matrix([y_teach + (y_star - y_teach)*a - y_stud,\n",
    "                     (beta_1 + beta)*mu - y_stud + y_star,\n",
    "                     a + beta*(y_star-y_teach)/2])\n",
    "eq_Lag"
   ]
  },
  {
   "cell_type": "code",
   "execution_count": 305,
   "id": "knowing-thousand",
   "metadata": {},
   "outputs": [
    {
     "data": {
      "text/latex": [
       "$\\displaystyle \\left[\\begin{matrix}a \\left(y_{star} - y_{teach}\\right) - y_{stud} + y_{teach}\\\\\\mu \\left(\\beta + \\beta_{1}\\right) + y_{star} - y_{stud}\\\\a + \\frac{\\beta \\left(y_{star} - y_{teach}\\right)}{2}\\end{matrix}\\right]$"
      ],
      "text/plain": [
       "Matrix([\n",
       "[a*(y_star - y_teach) - y_stud + y_teach],\n",
       "[   mu*(beta + beta_1) + y_star - y_stud],\n",
       "[          a + beta*(y_star - y_teach)/2]])"
      ]
     },
     "execution_count": 305,
     "metadata": {},
     "output_type": "execute_result"
    }
   ],
   "source": [
    "eq_Ham"
   ]
  },
  {
   "cell_type": "code",
   "execution_count": 307,
   "id": "hazardous-wyoming",
   "metadata": {},
   "outputs": [
    {
     "data": {
      "text/latex": [
       "$\\displaystyle \\frac{y_{star}^{3} - 2 y_{star}^{2} y_{teach} + y_{star} y_{teach}^{2} + 2 y_{teach}}{y_{star}^{2} - 2 y_{star} y_{teach} + y_{teach}^{2} + 2}$"
      ],
      "text/plain": [
       "(y_star**3 - 2*y_star**2*y_teach + y_star*y_teach**2 + 2*y_teach)/(y_star**2 - 2*y_star*y_teach + y_teach**2 + 2)"
      ]
     },
     "execution_count": 307,
     "metadata": {},
     "output_type": "execute_result"
    }
   ],
   "source": [
    "Sol_Lag = sym.solve([sym.E**(-beta_1*t_end)*(y_stud - y_star) - lam * beta,\n",
    "                 #beta_1*a - beta*(beta*sym.E**(-beta_1*t_end)*lam - (y_stud - y_star))*(y_star - y_teach)/2.,\n",
    "                 sym.E**(-beta_1*t_end)*2*a + beta*lam*(y_star - y_teach),\n",
    "                 beta*y_teach + beta*(y_star - y_teach)*a - beta*y_stud], y_stud, lam, a)\n",
    "expr_ysLag_steady_state = sym.simplify(Sol_Lag[y_stud])\n",
    "expr_aLag_steady_state = sym.simplify(Sol_Lag[a])\n",
    "expr_lamLag_steady_state = sym.simplify(Sol_Lag[lam])\n",
    "expr_aLag_steady_state;\n",
    "expr_lamLag_steady_state;\n",
    "expr_ysLag_steady_state"
   ]
  },
  {
   "cell_type": "code",
   "execution_count": 308,
   "id": "frequent-panama",
   "metadata": {},
   "outputs": [
    {
     "data": {
      "text/latex": [
       "$\\displaystyle \\frac{\\beta y_{star}^{3} - 2 \\beta y_{star}^{2} y_{teach} + \\beta y_{star} y_{teach}^{2} + 2 \\beta y_{teach} + 2 \\beta_{1} y_{teach}}{\\beta y_{star}^{2} - 2 \\beta y_{star} y_{teach} + \\beta y_{teach}^{2} + 2 \\beta + 2 \\beta_{1}}$"
      ],
      "text/plain": [
       "(beta*y_star**3 - 2*beta*y_star**2*y_teach + beta*y_star*y_teach**2 + 2*beta*y_teach + 2*beta_1*y_teach)/(beta*y_star**2 - 2*beta*y_star*y_teach + beta*y_teach**2 + 2*beta + 2*beta_1)"
      ]
     },
     "execution_count": 308,
     "metadata": {},
     "output_type": "execute_result"
    }
   ],
   "source": [
    "Sol_Ham = sym.solve([beta*y_teach + beta*(y_star - y_teach)*a - beta*y_stud,\n",
    "                     (beta_1 + beta)*mu - y_stud + y_star,\n",
    "                     a + beta*(y_star-y_teach)*mu/2], y_stud, mu, a)\n",
    "expr_ysHam_steady_state = sym.simplify(Sol_Ham[y_stud])\n",
    "expr_aHam_steady_state = sym.simplify(Sol_Ham[a])\n",
    "expr_muHam_steady_state = sym.simplify(Sol_Ham[mu])\n",
    "expr_ysHam_steady_state"
   ]
  },
  {
   "cell_type": "markdown",
   "id": "ahead-berry",
   "metadata": {},
   "source": [
    "#### Question: the set of equations (Lagrangian or Hamiltonian ways) are equivalent, though we get different steady state - check."
   ]
  },
  {
   "cell_type": "code",
   "execution_count": 309,
   "id": "unnecessary-austria",
   "metadata": {},
   "outputs": [
    {
     "data": {
      "text/latex": [
       "$\\displaystyle y_{teach} + \\frac{\\epsilon^{3}}{2} + O\\left(\\epsilon^{4}\\right)$"
      ],
      "text/plain": [
       "y_teach + epsilon**3/2 + O(epsilon**4)"
      ]
     },
     "execution_count": 309,
     "metadata": {},
     "output_type": "execute_result"
    }
   ],
   "source": [
    "expr_ysLag_steady_state_eps = expr_ysLag_steady_state.subs(y_star, y_teach + epsilon)\n",
    "sym.simplify(sym.series(expr_ysLag_steady_state_eps, epsilon, n=4))"
   ]
  },
  {
   "cell_type": "code",
   "execution_count": 310,
   "id": "alien-malawi",
   "metadata": {},
   "outputs": [
    {
     "data": {
      "text/latex": [
       "$\\displaystyle \\frac{y_{teach}}{\\epsilon} - \\frac{2 \\epsilon}{y_{teach}} + O\\left(\\epsilon^{2}\\right)$"
      ],
      "text/plain": [
       "y_teach/epsilon - 2*epsilon/y_teach + O(epsilon**2)"
      ]
     },
     "execution_count": 310,
     "metadata": {},
     "output_type": "execute_result"
    }
   ],
   "source": [
    "expr_ysLag_steady_state_eps_2 = expr_ysLag_steady_state.subs(y_star, y_teach / epsilon)\n",
    "sym.simplify(sym.series(expr_ysLag_steady_state_eps_2, epsilon, n=2))"
   ]
  },
  {
   "cell_type": "markdown",
   "id": "further-words",
   "metadata": {},
   "source": [
    "## a_max threshold"
   ]
  },
  {
   "cell_type": "code",
   "execution_count": 311,
   "id": "registered-northwest",
   "metadata": {},
   "outputs": [
    {
     "data": {
      "text/latex": [
       "$\\displaystyle \\frac{y_{star}^{2} - 2 y_{star} y_{teach} + y_{teach}^{2}}{y_{star}^{2} - 2 y_{star} y_{teach} + y_{teach}^{2} + 2}$"
      ],
      "text/plain": [
       "(y_star**2 - 2*y_star*y_teach + y_teach**2)/(y_star**2 - 2*y_star*y_teach + y_teach**2 + 2)"
      ]
     },
     "execution_count": 311,
     "metadata": {},
     "output_type": "execute_result"
    }
   ],
   "source": [
    "a_max_th = sym.symbols('a_max_th')\n",
    "Sol_a_max_th = sym.solve([expr_ysLag_steady_state - (y_teach + a_max_th * (y_star - y_teach))], a_max_th)\n",
    "expr_a_max_th = sym.simplify(Sol_a_max_th[a_max_th])\n",
    "expr_a_max_th"
   ]
  },
  {
   "cell_type": "markdown",
   "id": "exceptional-artwork",
   "metadata": {},
   "source": [
    "## Custom functions"
   ]
  },
  {
   "cell_type": "code",
   "execution_count": 312,
   "id": "flush-hierarchy",
   "metadata": {},
   "outputs": [],
   "source": [
    "# ---- # ---- # ---- # ---- # ---- # ---- # ---- # ---- #\n",
    "\n",
    "\n",
    "def SetPlotParams(magnification=1.0, ratio=float(2.2/2.7), fontsize=11., ylabelsize=None, xlabelsize=None, lines_w=1.5):\n",
    "    \n",
    "    plt.style.use('ggplot')\n",
    "\n",
    "    if (ylabelsize==None):\n",
    "        ylabelsize = fontsize\n",
    "    if (xlabelsize==None):\n",
    "        xlabelsize = fontsize\n",
    "\n",
    "    ratio = ratio  # usually this is 2.2/2.7\n",
    "    fig_width = 2.9 * magnification # width in inches\n",
    "    fig_height = fig_width*ratio  # height in inches\n",
    "    fig_size = [fig_width,fig_height]\n",
    "    plt.rcParams['figure.figsize'] = fig_size\n",
    "    plt.rcParams['figure.autolayout'] = True\n",
    "\n",
    "    plt.rcParams['lines.linewidth'] = lines_w\n",
    "    #plt.rcParams['lines.markeredgewidth'] = 0.25\n",
    "    #plt.rcParams['lines.markersize'] = 1\n",
    "    plt.rcParams['lines.markeredgewidth'] = 1.\n",
    "    plt.rcParams['errorbar.capsize'] = 1 #1.5\n",
    "\n",
    "    plt.rcParams['font.size'] = fontsize\n",
    "    plt.rcParams['legend.frameon'] = False\n",
    "    plt.rcParams['legend.numpoints'] = 1\n",
    "    plt.rcParams['legend.markerscale'] = 1\n",
    "    plt.rcParams['legend.handlelength'] = 1.5\n",
    "    plt.rcParams['legend.labelspacing'] = 0.3\n",
    "    plt.rcParams['legend.columnspacing'] = 0.3\n",
    "    plt.rcParams['legend.fontsize'] = fontsize\n",
    "    plt.rcParams['axes.facecolor'] = '1'\n",
    "    plt.rcParams['axes.edgecolor'] = '0.0'\n",
    "    plt.rcParams['axes.linewidth'] = '0.7'\n",
    "\n",
    "    plt.rcParams['grid.color'] = '0.85'\n",
    "    plt.rcParams['grid.linestyle'] = '-'\n",
    "    plt.rcParams['grid.linewidth'] = '0.7'\n",
    "    plt.rcParams['grid.alpha'] = '1.'\n",
    "\n",
    "    plt.rcParams['axes.labelcolor'] = '0'\n",
    "    plt.rcParams['axes.labelsize'] = fontsize\n",
    "    plt.rcParams['axes.titlesize'] = fontsize\n",
    "    plt.rcParams['xtick.labelsize'] = xlabelsize\n",
    "    plt.rcParams['ytick.labelsize'] = ylabelsize\n",
    "    plt.rcParams['xtick.color'] = '0'\n",
    "    plt.rcParams['ytick.color'] = '0'\n",
    "\n",
    "    plt.rcParams['xtick.major.size'] = 3.\n",
    "    plt.rcParams['xtick.major.width'] = 0.7\n",
    "    plt.rcParams['xtick.minor.size'] = 0\n",
    "    plt.rcParams['ytick.major.size'] = 3.\n",
    "    plt.rcParams['ytick.major.width'] = 0.7\n",
    "    plt.rcParams['ytick.minor.size'] = 0\n",
    "    plt.rcParams['xtick.major.pad']= 5.\n",
    "    plt.rcParams['ytick.major.pad']= 5.\n",
    "\n",
    "    #plt.rcParams['font.sans-serif'] = 'Arial'\n",
    "    #plt.rcParams['font.serif'] = 'mc'\n",
    "    #plt.rcParams['text.usetex'] = False # set to True for TeX-like fonts\n",
    "    #plt.rc('font', family='serif')\n",
    "\n",
    "    #sn.set_context(\"paper\", rc={\"font.size\":11, \"axes.titlesize\":11, \"axes.labelsize\":11}) # uncomment for seaborn\n",
    "\n",
    "\n",
    "# ---- # ---- # ---- # ---- # ---- # ---- # ---- # ---- #\n",
    "\n",
    "\n",
    "# COLORS\n",
    "\n",
    "# Palette 1\n",
    "orange_pal1 = '#F5A962'\n",
    "light_blue_pal1 = '#3C8DAD'\n",
    "dark_blue_pal1 = '#125D98'\n",
    "grey_pal1 = '#DDDDDD'\n",
    "\n",
    "# Palette 2\n",
    "green_pal2 = '#01937C'\n",
    "light_green_pal2 = '#B6C867'\n",
    "\n",
    "# Palette 3\n",
    "red_purp_pal3 = '#D83A56'\n",
    "light_red_purp_pal3 = '#FF616D'\n",
    "\n",
    "# Palette in prova\n",
    "grey_palIP = '#AAAAAA'"
   ]
  },
  {
   "cell_type": "markdown",
   "id": "historic-ending",
   "metadata": {},
   "source": [
    "## Implementation"
   ]
  },
  {
   "cell_type": "code",
   "execution_count": 313,
   "id": "combined-supplier",
   "metadata": {},
   "outputs": [],
   "source": [
    "expr_ysLag_steady_state_Tinf = sym.limit(expr_ysLag_steady_state, t_end, sym.oo)\n",
    "expr_aLag_steady_state_Tinf = sym.limit(expr_aLag_steady_state, t_end, sym.oo)\n",
    "expr_lamLag_steady_state_Tinf = sym.limit(expr_lamLag_steady_state, t_end, sym.oo)\n",
    "expr_a_max_th_Tinf = sym.limit(expr_a_max_th, t_end, sym.oo)"
   ]
  },
  {
   "cell_type": "code",
   "execution_count": 314,
   "id": "stuck-brush",
   "metadata": {},
   "outputs": [
    {
     "data": {
      "text/latex": [
       "$\\displaystyle \\frac{y_{star}^{3} - 2 y_{star}^{2} y_{teach} + y_{star} y_{teach}^{2} + 2 y_{teach}}{y_{star}^{2} - 2 y_{star} y_{teach} + y_{teach}^{2} + 2}$"
      ],
      "text/plain": [
       "(y_star**3 - 2*y_star**2*y_teach + y_star*y_teach**2 + 2*y_teach)/(y_star**2 - 2*y_star*y_teach + y_teach**2 + 2)"
      ]
     },
     "execution_count": 314,
     "metadata": {},
     "output_type": "execute_result"
    }
   ],
   "source": [
    "expr_ysLag_steady_state_Tinf"
   ]
  },
  {
   "cell_type": "code",
   "execution_count": 315,
   "id": "recreational-cement",
   "metadata": {},
   "outputs": [],
   "source": [
    "# Global variables\n",
    "n_states = 2 # at least 2 NEEDED\n",
    "n_controls = 1\n",
    "epsilon_val = 1.\n",
    "teacher_target = 1\n",
    "attacker_target = teacher_target + epsilon_val\n",
    "a_max = 1 #a_max_th_value # +2*1e-1\n",
    "a_min = 0.\n",
    "y_s_final_bound = teacher_target + a_max * epsilon_val\n",
    "y_stud_0 = 0\n",
    "a_0 = 0\n",
    "\n",
    "discount_factor = 0.1 # this is beta' (or beta_1): the discounting time scale\n",
    "time_scale = 1. # this is beta: the relaxation time without control\n",
    "duration = 10\n",
    "prefactor = 1000 # 1 to have intervals of width 1\n",
    "h = prefactor*(duration + 1) # duration + 1 to have intervals of width 1\n",
    "interval = duration / (h-1)\n",
    "timesteps = np.linspace(0, duration, h) # t = 0, 1*interval, ...h*interval\n",
    "\n",
    "beta, beta_1 = sym.symbols('beta, beta_1', positive=True)\n",
    "y_teach, y_star, epsilon = sym.symbols('y_teach, y_star, epsilon')\n",
    "y_stud, a, lam, t_end = sym.symbols('y_stud, a, lam, t_end')\n",
    "\n",
    "a_max_th_value = float(expr_a_max_th_Tinf.subs([(y_star, attacker_target),\n",
    "                                                (y_teach, teacher_target),\n",
    "                                                (beta, time_scale),\n",
    "                                                (beta_1, discount_factor)]))\n",
    "y_s_final = float(expr_ysLag_steady_state_Tinf.subs([(y_star, attacker_target),\n",
    "                                                  (y_teach, teacher_target),\n",
    "                                                  (beta, time_scale),\n",
    "                                                  (beta_1, discount_factor)]))\n",
    "a_final = float(expr_aLag_steady_state_Tinf.subs([(y_star, attacker_target),\n",
    "                                               (y_teach, teacher_target),\n",
    "                                               (beta, time_scale),\n",
    "                                               (beta_1, discount_factor)]))\n",
    "lam_final = float(expr_lamLag_steady_state_Tinf.subs([(y_star, attacker_target),\n",
    "                                                   (y_teach, teacher_target),\n",
    "                                                   (beta, time_scale),\n",
    "                                                   (beta_1, discount_factor)]))\n",
    "y_s_Tend = float(expr_ysLag_steady_state.subs([(y_star, attacker_target),\n",
    "                                            (y_teach, teacher_target),\n",
    "                                            (beta, time_scale),\n",
    "                                            (beta_1, discount_factor)]))\n",
    "a_Tend = float(expr_aLag_steady_state.subs([(y_star, attacker_target),\n",
    "                                         (y_teach, teacher_target),\n",
    "                                         (beta, time_scale),\n",
    "                                         (beta_1, discount_factor)]))\n",
    "lam_Tend = float(expr_lamLag_steady_state.subs([(y_star, attacker_target),\n",
    "                                             (y_teach, teacher_target),\n",
    "                                             (beta, time_scale),\n",
    "                                             (t_end, duration),\n",
    "                                             (beta_1, discount_factor)]))"
   ]
  },
  {
   "cell_type": "code",
   "execution_count": 316,
   "id": "computational-request",
   "metadata": {},
   "outputs": [
    {
     "name": "stdout",
     "output_type": "stream",
     "text": [
      "N states: 2\n",
      "y_star - y_teach: epsilon\n",
      "T = 10\n",
      "Discounting beta' = 0.1\n",
      "N timesteps: 11000\n",
      "Time interval: 0.0009091735612328394\n",
      "a max: 1\n",
      "a min: 0.0\n",
      "Done!\n"
     ]
    }
   ],
   "source": [
    "# Print information\n",
    "print('N states:', n_states)\n",
    "print('y_star - y_teach:', epsilon)\n",
    "print('T =', duration)\n",
    "print('Discounting beta\\' =', discount_factor)\n",
    "print('N timesteps:', h)\n",
    "print('Time interval:', interval)\n",
    "print('a max:', a_max)\n",
    "print('a min:', a_min)\n",
    "\n",
    "# Symbolic equations of motion\n",
    "beta, beta_1, y_teach, y_star, t = sym.symbols('beta, beta_1, y_teach, y_star, t')\n",
    "y_stud, y_stud_velocity, a, a_velocity = sym.symbols('y_stud, y_stud_velocity, a, a_velocity', cls=sym.Function) # y_stud_velocity added as Opty requires at least two states (NEEDED)\n",
    "\n",
    "state_symbols = (y_stud_velocity(t), y_stud(t))\n",
    "constant_symbols = (beta, beta_1, y_teach, y_star)\n",
    "specified_symbols = (a(t), )\n",
    "\n",
    "eom = sym.Matrix([y_stud_velocity(t) - y_stud(t).diff(), \n",
    "                  y_stud(t).diff() - beta * y_teach - beta * (y_star - y_teach) * a(t) + beta * y_stud(t)])\n",
    "\n",
    "# Specify the known system parameters.\n",
    "par_map = OrderedDict()\n",
    "par_map[beta] = time_scale\n",
    "par_map[y_teach] = teacher_target\n",
    "par_map[y_star] = attacker_target\n",
    "\n",
    "# Specify the objective function and it's gradient.\n",
    "def obj(free):\n",
    "    \"\"\"Minimize the sum of the squares of the control + squared error / 2.\n",
    "       Cost depends on second state variable and control variables.\n",
    "    \"\"\"\n",
    "    Cost = 0\n",
    "    # Cost due to state variable\n",
    "    Cost_nef = 0.5*(free[(n_states-1)*h:n_states*h]-attacker_target)**2\n",
    "    Cost_nef = interval * Cost_nef * np.exp(-discount_factor*timesteps)\n",
    "    Cost = Cost + np.sum(Cost_nef)\n",
    "    # Cost due to control variables\n",
    "    for i in range(n_controls):\n",
    "        Cost_control = free[n_states*h+i*h:n_states*h+(i+1)*h]**2\n",
    "        Cost_control = interval * Cost_control * np.exp(-discount_factor*timesteps)\n",
    "        Cost = Cost + np.sum(Cost_control)\n",
    "    return Cost\n",
    "\n",
    "def obj_grad(free):\n",
    "    grad = np.zeros_like(free)\n",
    "    # Grad w.r.t. state variable\n",
    "    grad_nef = free[(n_states-1)*h:n_states*h]-attacker_target\n",
    "    grad_nef = interval * grad_nef  * np.exp(-discount_factor*timesteps)\n",
    "    grad[(n_states-1)*h:n_states*h] = grad_nef\n",
    "    # Grad w.r.t. control variables\n",
    "    for i in range(n_controls):\n",
    "        grad_control = 2.0 * free[n_states*h+i*h:n_states*h+(i+1)*h]\n",
    "        grad_control = interval * grad_control * np.exp(-discount_factor*timesteps)\n",
    "        grad[n_states*h+i*h:n_states*h+(i+1)*h] = grad_control\n",
    "    return grad\n",
    "\n",
    "# Specify the symbolic instance constraints, i.e. initial and end\n",
    "# conditions.\n",
    "instance_constraints = (y_stud(0.0) - y_stud_0,)\n",
    "\n",
    "# Create an optimization problem.\n",
    "prob = Problem(obj, obj_grad, eom, state_symbols, h, interval,\n",
    "               known_parameter_map=par_map,\n",
    "               instance_constraints=instance_constraints,\n",
    "               bounds={a(t): (a_min, a_max)})\n",
    "\n",
    "# Use a random positive initial guess.\n",
    "initial_guess = np.random.randn(prob.num_free)\n",
    "#initial_guess = np.ones(prob.num_free) # ADDED\n",
    "\n",
    "# Find the optimal solution.\n",
    "solution, info = prob.solve(initial_guess)\n",
    "\n",
    "print('Done!')"
   ]
  },
  {
   "cell_type": "code",
   "execution_count": 317,
   "id": "negative-enforcement",
   "metadata": {},
   "outputs": [
    {
     "data": {
      "image/png": "[encoded data removed]",
      "text/plain": [
       "<Figure size 584.64x389.76 with 1 Axes>"
      ]
     },
     "metadata": {},
     "output_type": "display_data"
    },
    {
     "data": {
      "image/png": "[encoded data removed]",
      "text/plain": [
       "<Figure size 584.64x389.76 with 1 Axes>"
      ]
     },
     "metadata": {},
     "output_type": "display_data"
    },
    {
     "name": "stdout",
     "output_type": "stream",
     "text": [
      "Initial conditions:\n",
      "y_s(0) = 0.00\n",
      "a(0) = 0.5957193102\n"
     ]
    }
   ],
   "source": [
    "SetPlotParams(magnification=2.8, ratio=float(2./3.), fontsize=13, lines_w=2.)\n",
    "x_min = 0\n",
    "x_max = duration\n",
    "\n",
    "y_s_dynamics = solution[(n_states-1)*h:n_states*h]\n",
    "a_dynamics = solution[n_states*h:]\n",
    "\n",
    "y_min = 0.\n",
    "y_max = max(max(max(y_s), attacker_target), y_s_final)*1.1\n",
    "#y_max = 2.5\n",
    "\n",
    "plt.plot(timesteps, y_s_dynamics, color=orange_pal1, label='$y_{\\mathrm{s}}(t)$')\n",
    "plt.plot(timesteps[1:], a_dynamics[1:], color=light_blue_pal1, label='$a(t)$')\n",
    "plt.plot(timesteps, y_s_final*np.ones_like(timesteps), color=orange_pal1, ls='--', label='$y_{\\mathrm{s}}^{\\infty}$')\n",
    "plt.plot(timesteps, attacker_target*np.ones_like(timesteps), color=dark_blue_pal1, ls='--', label='$y^{\\star}$')\n",
    "plt.plot(timesteps, teacher_target*np.ones_like(timesteps), color=red_purp_pal3, ls='--', label='$y^{\\mathrm{t}}$')\n",
    "plt.plot(timesteps, y_s_final_bound*np.ones_like(timesteps), color=grey_palIP, ls='--', label='$y^{\\infty}_{\\mathrm{s, bound}}$')\n",
    "\n",
    "#plt.legend(bbox_to_anchor=(0., 1.02, 1, 0.2), loc=\"lower left\", ncol=4, mode=\"expand\")\n",
    "plt.legend(bbox_to_anchor=(1.04, 1), loc=\"upper left\", ncol=1)\n",
    "\n",
    "plt.xlabel('t')\n",
    "plt.xlim([x_min, x_max])\n",
    "plt.ylim([y_min, y_max])\n",
    "plt.grid(True)\n",
    "plt.show()\n",
    "\n",
    "y_max = 1.12\n",
    "plt.plot(timesteps, 0.5*(y_s_dynamics-attacker_target)**2, color=orange_pal1, label='$\\\\frac{1}{2}(y_{\\mathrm{s}}(t)-y^{\\star})^2$')\n",
    "plt.plot(timesteps[1:], a_dynamics[1:]**2, color=light_blue_pal1, label='$a^2(t)$')\n",
    "plt.plot(timesteps, a_max**2*np.ones_like(timesteps), color=grey_palIP, ls='--', label='$a^2_{\\max}$')\n",
    "plt.legend(bbox_to_anchor=(1.04, 1), loc=\"upper left\", ncol=1)\n",
    "\n",
    "plt.xlabel('t')\n",
    "plt.xlim([x_min, x_max])\n",
    "plt.ylim([y_min, y_max])\n",
    "plt.grid(True)\n",
    "plt.show()\n",
    "\n",
    "print('Initial conditions:\\ny_s(0) = %.2f\\na(0) = %.10f' % (y_s_dynamics[0], a_dynamics[1]))"
   ]
  },
  {
   "cell_type": "code",
   "execution_count": 318,
   "id": "decent-kitty",
   "metadata": {},
   "outputs": [
    {
     "data": {
      "image/png": "[encoded data removed]",
      "text/plain": [
       "<Figure size 584.64x389.76 with 3 Axes>"
      ]
     },
     "metadata": {},
     "output_type": "display_data"
    }
   ],
   "source": [
    "# Make some plots\n",
    "prob.plot_trajectories(solution)\n",
    "#prob.plot_constraint_violations(solution)\n",
    "#prob.plot_objective_value()"
   ]
  },
  {
   "cell_type": "markdown",
   "id": "sexual-tuning",
   "metadata": {},
   "source": [
    "## Eq. of motion - Lagrangian\n",
    "\n",
    "1. $\\partial_{y_{\\mathrm{s}}} I = e^{-\\beta' t}(y_{\\mathrm{s}}(t) - y^{\\star})+\\dot{\\lambda}(t) - \\lambda(t)\\beta = 0$\n",
    "\n",
    "2. $\\partial_{a} I = e^{-\\beta' t}2 a(t) + \\beta\\lambda(t)(y^{\\star} - y^{\\mathrm{t}}) = 0$\n",
    "\n",
    "3. $\\dot{y}_{\\mathrm{s}}(t) = \\beta y^{\\mathrm{t}} + \\beta(y^{\\star} - y^{\\mathrm{t}})a(t) - \\beta y_{\\mathrm{s}}(t)$\n",
    "\n",
    "Derive 2. w.r.t. time:\n",
    "\n",
    "$-\\beta' e^{-\\beta' t}2 a(t) + e^{-\\beta' t}2 \\dot{a}(t) +\\beta \\dot{\\lambda(t)}(y^{\\star} - y^{\\mathrm{t}}) = 0$\n",
    "\n",
    "Substitute $\\dot{\\lambda}(t)$ from 1.:\n",
    "\n",
    "$-\\beta' e^{-\\beta' t}2 a(t) + e^{-\\beta' t}2 \\dot{a}(t) +\\beta (\\lambda(t)\\beta - e^{-\\beta' t}(y_{\\mathrm{s}}(t) - y^{\\star}))(y^{\\star} - y^{\\mathrm{t}}) = 0$\n",
    "\n",
    "Get:\n",
    "\n",
    "1. $\\dot{\\lambda}(t)= \\lambda(t)\\beta - e^{-\\beta' t}(y_{\\mathrm{s}}(t) - y^{\\star})$\n",
    "\n",
    "2. $\\dot{a}(t) = \\beta' a(t) -\\beta (\\beta e^{+\\beta' t}\\lambda(t) - (y_{\\mathrm{s}}(t) - y^{\\star}))(y^{\\star} - y^{\\mathrm{t}})/2$\n",
    "\n",
    "3. $\\dot{y}_{\\mathrm{s}}(t) = \\beta y^{\\mathrm{t}} + \\beta(y^{\\star} - y^{\\mathrm{t}})a(t) - \\beta y_{\\mathrm{s}}(t)$"
   ]
  },
  {
   "cell_type": "code",
   "execution_count": 319,
   "id": "solved-magazine",
   "metadata": {},
   "outputs": [
    {
     "data": {
      "text/latex": [
       "$\\displaystyle 0$"
      ],
      "text/plain": [
       "0"
      ]
     },
     "execution_count": 319,
     "metadata": {},
     "output_type": "execute_result"
    }
   ],
   "source": [
    "expr_lamLag_steady_state_Tinf"
   ]
  },
  {
   "cell_type": "code",
   "execution_count": 327,
   "id": "incredible-multimedia",
   "metadata": {},
   "outputs": [
    {
     "name": "stdout",
     "output_type": "stream",
     "text": [
      "N states: 2\n",
      "y_star - y_teach: epsilon\n",
      "T = 10\n",
      "Discounting beta' = 0.1\n",
      "N timesteps: 11000\n",
      "Time interval: 0.0009091735612328394\n",
      "a max: 1\n",
      "a min: 0.0\n"
     ]
    },
    {
     "data": {
      "image/png": "[encoded data removed]",
      "text/plain": [
       "<Figure size 584.64x389.76 with 1 Axes>"
      ]
     },
     "metadata": {},
     "output_type": "display_data"
    },
    {
     "data": {
      "text/plain": [
       "([1.3333333333333333, 0.3333333333333333, 0.0],\n",
       " [1.3333333333333333, 0.3333333333333333, -0.24525296078096154])"
      ]
     },
     "execution_count": 327,
     "metadata": {},
     "output_type": "execute_result"
    }
   ],
   "source": [
    "# function that returns dz/dt, where z = [y_s, a, lam]\n",
    "\n",
    "# Print information\n",
    "print('N states:', n_states)\n",
    "print('y_star - y_teach:', epsilon)\n",
    "print('T =', duration)\n",
    "print('Discounting beta\\' =', discount_factor)\n",
    "print('N timesteps:', h)\n",
    "print('Time interval:', interval)\n",
    "print('a max:', a_max)\n",
    "print('a min:', a_min)\n",
    "\n",
    "#epsilon = 1.\n",
    "#teacher_target = 1\n",
    "#attacker_target = teacher_target + epsilon\n",
    "#discount_factor = 0 (this is beta_1 = beta')\n",
    "#time_scale = 1 (this is beta)\n",
    "\n",
    "def eom(z,t):\n",
    "    dy_sdt = time_scale*teacher_target + time_scale*(attacker_target-teacher_target)*z[1] - time_scale*z[0]\n",
    "    #dadt = discount_factor*z[1] - time_scale*(time_scale*np.exp(discount_factor*t)*z[2] - (z[0]-attacker_target))*(attacker_target - teacher_target)/2.\n",
    "    dlamdt = time_scale*z[2] - np.exp(-discount_factor*t)*(z[0]-attacker_target)\n",
    "    dadt = discount_factor*z[1] - time_scale*np.exp(discount_factor*t)*(attacker_target - teacher_target)*dlamdt/2.\n",
    "\n",
    "    dzdt = [dy_sdt, dadt, dlamdt]\n",
    "    return dzdt\n",
    "\n",
    "# initial condition\n",
    "a_0 = a_dynamics[1] #0.6311860696 + 0.0018070925\n",
    "lam_0 = -2*a_0 / (time_scale*(attacker_target-teacher_target))\n",
    "z_T0 = [0, a_0, lam_0]\n",
    "\n",
    "# final conditions\n",
    "z_final = [y_s_final, a_final, lam_final]\n",
    "\n",
    "# Tend conditions\n",
    "z_Tend_ss = [y_s_Tend, a_Tend, lam_Tend]\n",
    "\n",
    "# time points\n",
    "t = timesteps\n",
    "t_reversed = t[::-1]\n",
    "\n",
    "# integration direction\n",
    "forward = True\n",
    "\n",
    "# solve ODE\n",
    "if forward:\n",
    "    z = odeint(eom, z_T0, t)\n",
    "else:\n",
    "    z = odeint(eom, z_Tend_ss, t_reversed)\n",
    "\n",
    "# plot results\n",
    "x_min, x_max = 0, duration\n",
    "y_min, y_max = -2.5, 2.5\n",
    "plt.plot(t,z[:,0],'-', color=orange_pal1, label='y(t)')\n",
    "plt.plot(t,z[:,1],'-', color=green_pal2, label='a(t)')\n",
    "plt.plot(t, y_s_final*np.ones_like(t), color=orange_pal1, ls='--', label='$y_{\\mathrm{s}}^{\\infty}$')\n",
    "plt.plot(t, a_final*np.ones_like(t), color=green_pal2, ls='--', label='$a^{\\infty}$')\n",
    "plt.plot(t, attacker_target*np.ones_like(t), color=dark_blue_pal1, ls='--', label='$y^{\\star}$')\n",
    "plt.plot(t, teacher_target*np.ones_like(t), color=red_purp_pal3, ls='--', label='$y^{\\mathrm{t}}$')\n",
    "plt.xlim([x_min, x_max])\n",
    "plt.ylim([y_min, y_max])\n",
    "plt.ylabel('response')\n",
    "plt.xlabel('time')\n",
    "plt.legend(loc='best')\n",
    "plt.show()\n",
    "\n",
    "z_final, z_Tend_ss"
   ]
  },
  {
   "cell_type": "markdown",
   "id": "touched-hayes",
   "metadata": {},
   "source": [
    "## Eq. of motion - Hamiltonian\n",
    "\n",
    "1. $\\dot{y}_{\\mathrm{s}}(t) = \\beta y^{\\mathrm{t}} + \\beta(y^{\\star} - y^{\\mathrm{t}})a(t) - \\beta y_{\\mathrm{s}}(t)$\n",
    "\n",
    "2. $\\dot{\\mu}(t) = (\\beta+\\beta ')\\mu(t) - y_{\\mathrm{s}}(t) + y^{\\star}$\n",
    "\n",
    "3. $a(t) = -\\frac{\\beta}{2}(y^{\\star} - y^{\\mathrm{t}})\\mu(t)$"
   ]
  },
  {
   "cell_type": "code",
   "execution_count": 328,
   "id": "printable-portugal",
   "metadata": {},
   "outputs": [],
   "source": [
    "beta, beta_1 = sym.symbols('beta, beta_1', positive=True)\n",
    "y_teach, y_star, epsilon = sym.symbols('y_teach, y_star, epsilon')\n",
    "y_stud, a, lam, t_end = sym.symbols('y_stud, a, lam, t_end')\n",
    "\n",
    "y_s_final_ham = float(expr_ysHam_steady_state.subs([(y_star, attacker_target),\n",
    "                                                  (y_teach, teacher_target),\n",
    "                                                  (beta, time_scale),\n",
    "                                                  (beta_1, discount_factor)]))\n",
    "a_final_ham = float(expr_aHam_steady_state.subs([(y_star, attacker_target),\n",
    "                                               (y_teach, teacher_target),\n",
    "                                               (beta, time_scale),\n",
    "                                               (beta_1, discount_factor)]))\n",
    "mu_final_ham = float(expr_muHam_steady_state.subs([(y_star, attacker_target),\n",
    "                                                   (y_teach, teacher_target),\n",
    "                                                   (beta, time_scale),\n",
    "                                                   (beta_1, discount_factor)]))"
   ]
  },
  {
   "cell_type": "code",
   "execution_count": 331,
   "id": "amber-corrections",
   "metadata": {},
   "outputs": [
    {
     "name": "stdout",
     "output_type": "stream",
     "text": [
      "N states: 2\n",
      "y_star - y_teach: epsilon\n",
      "T = 10\n",
      "Discounting beta' = 0.1\n",
      "N timesteps: 11000\n",
      "Time interval: 0.0009091735612328394\n",
      "a max: 1\n",
      "a min: 0.0\n"
     ]
    },
    {
     "data": {
      "image/png": "[encoded data removed]",
      "text/plain": [
       "<Figure size 584.64x389.76 with 1 Axes>"
      ]
     },
     "metadata": {},
     "output_type": "display_data"
    }
   ],
   "source": [
    "# function that returns dz/dt, where z = [y_s, a, mu]\n",
    "\n",
    "# Print information\n",
    "print('N states:', n_states)\n",
    "print('y_star - y_teach:', epsilon)\n",
    "print('T =', duration)\n",
    "print('Discounting beta\\' =', discount_factor)\n",
    "print('N timesteps:', h)\n",
    "print('Time interval:', interval)\n",
    "print('a max:', a_max)\n",
    "print('a min:', a_min)\n",
    "\n",
    "#epsilon = 1.\n",
    "#teacher_target = 1\n",
    "#attacker_target = teacher_target + epsilon\n",
    "#discount_factor = 0 (this is beta_1 = beta')\n",
    "#time_scale = 1 (this is beta)\n",
    "\n",
    "def eom(z,t):\n",
    "    dy_sdt = time_scale*teacher_target + time_scale*(attacker_target-teacher_target)*z[1] - time_scale*z[0]\n",
    "    dmudt = (time_scale + discount_factor)*z[2] - z[0] + attacker_target \n",
    "    dadt = -time_scale*(attacker_target - teacher_target)*dmudt/2.\n",
    "\n",
    "    dzdt = [dy_sdt, dadt, dmudt]\n",
    "    return dzdt\n",
    "\n",
    "# initial condition\n",
    "a_0 = a_dynamics[1]\n",
    "mu_0 = -2*a_0 / (time_scale*(attacker_target-teacher_target))\n",
    "z_T0 = [0, a_0, mu_0]\n",
    "\n",
    "# final conditions\n",
    "z_final = [y_s_final_ham, a_final_ham, mu_final_ham]\n",
    "\n",
    "# time points\n",
    "t = timesteps\n",
    "t_reversed = t[::-1]\n",
    "\n",
    "# integration direction\n",
    "forward = True\n",
    "\n",
    "# solve ODE\n",
    "if forward:\n",
    "    z = odeint(eom, z_T0, t)\n",
    "else:\n",
    "    z = odeint(eom, z_final, t_reversed)\n",
    "\n",
    "# plot results\n",
    "x_min, x_max = 0, duration\n",
    "y_min, y_max = -2.5, 2.5\n",
    "plt.plot(t,z[:,0],'-', color=orange_pal1, label='y(t)')\n",
    "plt.plot(t,z[:,1],'-', color=green_pal2, label='a(t)')\n",
    "plt.plot(t, y_s_final_ham*np.ones_like(t), color=orange_pal1, ls='--', label='$y_{\\mathrm{s}}^{\\infty}$')\n",
    "plt.plot(t, a_final_ham*np.ones_like(t), color=green_pal2, ls='--', label='$a^{\\infty}$')\n",
    "plt.plot(t, attacker_target*np.ones_like(t), color=dark_blue_pal1, ls='--', label='$y^{\\star}$')\n",
    "plt.plot(t, teacher_target*np.ones_like(t), color=red_purp_pal3, ls='--', label='$y^{\\mathrm{t}}$')\n",
    "plt.xlim([x_min, x_max])\n",
    "plt.ylim([y_min, y_max])\n",
    "plt.ylabel('response')\n",
    "plt.xlabel('time')\n",
    "plt.legend(loc='best')\n",
    "plt.show()"
   ]
  },
  {
   "cell_type": "markdown",
   "id": "former-strengthening",
   "metadata": {},
   "source": [
    "## Comments\n",
    "How do we find the optimal initial conditions $a(0)$ and $\\lambda(0)$? \n",
    "\n",
    "Can use final conditions and integrate backwards? Sure, but(!), if $T$ is finite there is no steady state and the final condition is yet to be found. If $T\\to\\infty$, the final conditions define the steady state, so need to use $y_{\\mathrm{s}}(0)$ to see some dynamics.\n",
    "\n",
    "- Lagrangian:\n",
    "The forward dynamics looks right forward (from ipopt solution, up to some t value, then dynamics diverges). The backward (steady state) dynamics looks right if we start from z_final and set $\\beta'=0$. If $\\beta'>0$, the dynamics doesn't look right. \n",
    "\n",
    "- Hamiltonian:\n",
    "Both forward (from ipopt solution, up to some t value, then dynamics diverges) and backward (from steady state: constant values) dynamics look right."
   ]
  }
 ],
 "metadata": {
  "kernelspec": {
   "display_name": "py3_6_12_V3_PYPI",
   "language": "python",
   "name": "py3_6_12_v3_pypi"
  },
  "language_info": {
   "codemirror_mode": {
    "name": "ipython",
    "version": 3
   },
   "file_extension": ".py",
   "mimetype": "text/x-python",
   "name": "python",
   "nbconvert_exporter": "python",
   "pygments_lexer": "ipython3",
   "version": "3.6.12"
  }
 },
 "nbformat": 4,
 "nbformat_minor": 5
}
