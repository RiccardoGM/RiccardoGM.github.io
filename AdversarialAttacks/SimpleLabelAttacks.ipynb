{
 "cells": [
  {
   "cell_type": "markdown",
   "id": "effective-remark",
   "metadata": {},
   "source": [
    "# Simple label attack\n",
    "\n",
    "### Time: \n",
    "$t=1,\\ldots h$\n",
    "\n",
    "### Teacher: \n",
    "$y^{\\textrm{t}}=1$\n",
    "\n",
    "### Attacker's target: \n",
    "$y^{\\star}=-1$\n",
    "\n",
    "### Control: \n",
    "$\\mathbf{a}=(a_1, \\ldots a_h), \\, a_t\\in[0, 1]$\n",
    "\n",
    "### Attack: \n",
    "$y_t^{\\dagger}=y^{\\textrm{t}}(1-a_t) + y^{\\star}a_t$\n",
    "\n",
    "### Dynamics: \n",
    "$y_{t+1}^{\\mathrm{s}} = y_t^{\\dagger} \\beta + y_t^{\\mathrm{s}}(1-\\beta)$\n",
    "\n",
    "### Objective:\n",
    "$min_{\\mathbf{a}}\\sum_t \\gamma^t( g_{\\mathrm{nef}}(y_t^{\\mathrm{s}}) + g_{\\mathrm{per}}(a_t))$\n",
    "<br>\n",
    "$g_{\\mathrm{nef}}(y_t^{\\mathrm{s}}) = \\frac{1}{2}(y_t^{\\mathrm{s}} - y^{\\star})^2 \\in [0, 2]$\n",
    "<br>\n",
    "$g_{\\mathrm{per}}(a_t) = a_t^2 \\in [0, 1]$\n",
    "\n",
    "### Initial conditions:\n",
    "$y_0^{\\mathrm{s}} = 0$\n",
    "<br>\n",
    "$\\mathbf{a}_0 = (0, \\ldots 0)$\n",
    "\n",
    "### Parameters:\n",
    "$\\gamma, \\beta, y^{\\star}, y^{\\mathrm{t}}, h$\n",
    "\n",
    "NB1: We do not care for $a_0$ and $y_0^{\\dagger}$, though for consistency of indices we shall use vectors with $h+1$ entries (same as $\\mathbf{y}^{\\mathrm{s}}$).\n",
    "\n",
    "NB2: The sequence of events is: $y_{0}^{\\mathrm{s}}, a_1, y_{1}^{\\mathrm{s}}, \\ldots$\n",
    "<br>\n",
    "At $t=0$ whe have $a_0$ and $y_0^{\\dagger}$ that play no role, while at $t=h$ we perform the last update $y_{h}^{\\mathrm{s}} = y_{h}^{\\dagger} \\beta + y_{h-1}^{\\mathrm{s}}(1-\\beta)$.\n",
    "\n",
    "### Long-time behaviour (trivial)\n",
    "We can write $y_t^{\\mathrm{s}}$ as:\n",
    "<br>\n",
    "$y_t^{\\mathrm{s}} = y_0^{\\mathrm{s}}(1-\\beta)^t + \\sum_{t'=1}^t y^{\\dagger}(a_{t'})\\beta(1-\\beta)^{t-t'}$\n",
    "<br>\n",
    "If we set $a_{t'}=0\\, \\forall \\, t'$, then $y^{\\dagger}(a_{t'}=0)=y^{\\mathrm{t}}$ and\n",
    "<br>\n",
    "$y_{\\infty}^{\\mathrm{s}}=\\lim_{h\\to\\infty} y_0^{\\mathrm{s}}(1-\\beta)^h + \\sum_{t'=1}^h y^{\\mathrm{t}}\\beta(1-\\beta)^{h-t'}=\\sum_{t'=0}^{\\infty} y^{\\mathrm{t}}\\beta(1-\\beta)^{t'}=y^{\\mathrm{t}}$\n",
    "<br>\n",
    "Similarly if $a_{t'}=1\\, \\forall \\, t'$, then $y^{\\dagger}(a_{t'}=1)=y^{\\star}$ and $y_{\\infty}^{\\mathrm{s}}=y^{\\star}$\n",
    "\n",
    "### Gradient of objective function\n",
    "$\\partial_{a_t} \\sum_{t'=1}^h \\gamma^{t'} (g_{\\mathrm{per}}(a_{t'}) + g_{\\mathrm{nef}}(y_{t'}^{\\mathrm{s}})) = 2 \\gamma^{t} a_t + \\partial_{a_t} \\sum_{t'=1}^h \\gamma^{t'} g_{\\mathrm{nef}}(y_{t'}^{\\mathrm{s}})$\n",
    "<br>\n",
    "$\\partial_{a_t} \\sum_{t'=1}^h \\gamma^{t'} g_{\\mathrm{nef}}(y_{t'}^{\\mathrm{s}}) = \\sum_{t'=t}^h \\gamma^{t'} \\partial_{a_t} g_{\\mathrm{nef}}(y_{t'}^{\\mathrm{s}}) = \\sum_{t'=t}^h \\gamma^{t'} \\partial_{a_t} \\frac{1}{2}(y_t^{\\mathrm{s}} - y^{\\star})^2 = \\sum_{t'=t}^h \\gamma^{t'} (y_{t'}^{\\mathrm{s}} - y^{\\star})\\partial_{a_t}y_{t'}^{\\mathrm{s}} = \\sum_{t'=t}^h \\gamma^{t'} (y_{t'}^{\\mathrm{s}} - y^{\\star})\\beta(1-\\beta)^{t'-t}(y^{\\star}-y^{\\mathrm{t}})$\n",
    "<br>\n",
    "as $\\partial_{a_t} y_{t'}^{\\mathrm{s}} = \\partial_{a_t} \\big(y_0^{\\mathrm{s}}(1-\\beta)^{t'} + \\sum_{t''=1}^{t'} y^{\\dagger}(a_{t''})\\beta(1-\\beta)^{t'-t''} \\big)= \\beta(1-\\beta)^{t'-t}\\partial_{a_t}y^{\\dagger}(a_{t}) = \\beta(1-\\beta)^{t'-t}\\partial_{a_t}(y^{\\mathrm{t}}(1-a_{t})+y^{\\star}a_t) = \\beta(1-\\beta)^{t'-t}(y^{\\star} - y^{\\mathrm{t}})$\n",
    "<br>\n",
    "Finally\n",
    "<br>\n",
    "$\\partial_{a_t} \\sum_{t'=1}^h \\gamma^{t'} (g_{\\mathrm{per}}(a_{t'}) + g_{\\mathrm{nef}}(y_{t'}^{\\mathrm{s}})) = 2 \\gamma^{t} a_t + \\sum_{t'=t}^h \\gamma^{t'} (y_{t'}^{\\mathrm{s}} - y^{\\star})\\beta(1-\\beta)^{t'-t}(y^{\\star}-y^{\\mathrm{t}})$"
   ]
  },
  {
   "cell_type": "markdown",
   "id": "auburn-minnesota",
   "metadata": {},
   "source": [
    "## Import statement"
   ]
  },
  {
   "cell_type": "code",
   "execution_count": 48,
   "id": "referenced-miniature",
   "metadata": {},
   "outputs": [],
   "source": [
    "import ipopt\n",
    "import scipy.sparse as sps\n",
    "import numpy as np"
   ]
  },
  {
   "cell_type": "markdown",
   "id": "weighted-settlement",
   "metadata": {},
   "source": [
    "## Implementation"
   ]
  },
  {
   "cell_type": "code",
   "execution_count": 49,
   "id": "collected-collectible",
   "metadata": {},
   "outputs": [],
   "source": [
    "# Global variables\n",
    "gamma = 0.9\n",
    "beta = 0.5\n",
    "y_star = -1\n",
    "y_teach = 1\n",
    "y_stud_0 = 0\n",
    "h = 10\n",
    "\n",
    "class LabelAttack(object):\n",
    "    def __init__(self):\n",
    "        pass\n",
    "\n",
    "    def objective(self, a):\n",
    "        #\n",
    "        # The callback for calculating the objective\n",
    "        #\n",
    "        \n",
    "        # time vector\n",
    "        time = np.arange(0, h+1) # t = 0, 1, ...h\n",
    "        \n",
    "        # Perturbation cost\n",
    "        g_per = a[1:]**2\n",
    "        g_per = np.sum(gper * gamma**time[1:])\n",
    "        \n",
    "        # Nefarious cost\n",
    "        y_dagger = y_teach * (1-a) + y_star * a\n",
    "        y_stud = np.zeros(h+1)\n",
    "        y_stud[0] = y_stud_0\n",
    "        for t in range(h):\n",
    "            y_stud[t+1] = y_dagger[t+1] * beta + y_stud[t] * (1-beta)\n",
    "        g_nef = np.sum(((y_stud[1:]-y_star)**2) * gamma**time[1:])/2.\n",
    "        \n",
    "        return g_per + g_nef\n",
    "\n",
    "    def gradient(self, a):\n",
    "        #\n",
    "        # The callback for calculating the gradient\n",
    "        #\n",
    "        \n",
    "        # time vector\n",
    "        time = np.arange(0, h+1) # t = 0, 1, ...h\n",
    "        \n",
    "        # student vector\n",
    "        y_dagger = y_teach * (1-a) + y_star * a\n",
    "        y_stud = np.zeros(h+1)\n",
    "        y_stud[0] = y_stud_0\n",
    "        for t in range(h):\n",
    "            y_stud[t+1] = y_dagger[t+1] * beta + y_stud[t] * (1-beta)\n",
    "        \n",
    "        # gradient vector\n",
    "        g_grad = 2 * (gamma**time) * a\n",
    "        #\n",
    "        prefactor = beta * (y_star-y_teach)\n",
    "        pref_disc = prefactor * gamma**time\n",
    "        for t in range(h):\n",
    "            time_f = time[t+1:h+1]\n",
    "            time_b = time[1:h+1-t]\n",
    "            g_nef_grad_t = np.sum(pref_disc[time_f]*((1-beta)**time_b)*(y_stud[time_f]-y_star))\n",
    "            \n",
    "            g_grad[t+1] = g_grad[t+1] + g_nef_grad_t\n",
    "        \n",
    "        return g_grad[1:]\n",
    "\n",
    "    def constraints(self, a):\n",
    "        #\n",
    "        # The callback for calculating the constraints\n",
    "        #\n",
    "        \n",
    "        # student vector\n",
    "        y_dagger = y_teach * (1-a) + y_star * a\n",
    "        y_stud = np.zeros(h+1)\n",
    "        y_stud[0] = y_stud_0\n",
    "        for t in range(h):\n",
    "            y_stud[t+1] = y_dagger[t+1] * beta + y_stud[t] * (1-beta)\n",
    "            \n",
    "        return y_stud[1:]\n",
    "\n",
    "    def jacobian(self, a):\n",
    "        #\n",
    "        # The callback for calculating the Jacobian\n",
    "        #\n",
    "        return np.ones(h) * (y_star - y_teach) * beta\n",
    "    \n",
    "    '''\n",
    "    def hessianstructure(self):\n",
    "        #\n",
    "        # The structure of the Hessian\n",
    "        # Note:\n",
    "        # The default hessian structure is of a lower triangular matria. Therefore\n",
    "        # this function is redundant. I include it as an eaample for structure\n",
    "        # callback.\n",
    "        #\n",
    "        global hs\n",
    "\n",
    "        hs = sps.coo_matria(np.tril(np.ones((4, 4))))\n",
    "        return (hs.col, hs.row)\n",
    "\n",
    "    def hessian(self, a, lagrange, obj_factor):\n",
    "        #\n",
    "        # The callback for calculating the Hessian\n",
    "        #\n",
    "        H = obj_factor*np.array((\n",
    "                (2*a[3], 0, 0, 0),\n",
    "                (a[3],   0, 0, 0),\n",
    "                (a[3],   0, 0, 0),\n",
    "                (2*a[0]+a[1]+a[2], a[0], a[0], 0)))\n",
    "\n",
    "        H += lagrange[0]*np.array((\n",
    "                (0, 0, 0, 0),\n",
    "                (a[2]*a[3], 0, 0, 0),\n",
    "                (a[1]*a[3], a[0]*a[3], 0, 0),\n",
    "                (a[1]*a[2], a[0]*a[2], a[0]*a[1], 0)))\n",
    "\n",
    "        H += lagrange[1]*2*np.eye(4)\n",
    "\n",
    "        #\n",
    "        # Note:\n",
    "        #\n",
    "        #\n",
    "        return H[hs.row, hs.col]\n",
    "    '''\n",
    "    \n",
    "    def intermediate(\n",
    "            self,\n",
    "            alg_mod,\n",
    "            iter_count,\n",
    "            obj_value,\n",
    "            inf_pr,\n",
    "            inf_du,\n",
    "            mu,\n",
    "            d_norm,\n",
    "            regularization_size,\n",
    "            alpha_du,\n",
    "            alpha_pr,\n",
    "            ls_trials\n",
    "            ):\n",
    "\n",
    "        #\n",
    "        # Eaample for the use of the intermediate callback.\n",
    "        #\n",
    "        print(\"Objective value at iteration #%d is - %g\" % (iter_count, obj_value))"
   ]
  },
  {
   "cell_type": "code",
   "execution_count": 50,
   "id": "desperate-motorcycle",
   "metadata": {},
   "outputs": [
    {
     "ename": "IndexError",
     "evalue": "Out of bounds on buffer access (axis 0)",
     "output_type": "error",
     "traceback": [
      "\u001b[0;31m---------------------------------------------------------------------------\u001b[0m",
      "\u001b[0;31mIndexError\u001b[0m                                Traceback (most recent call last)",
      "\u001b[0;31mIndexError\u001b[0m: Out of bounds on buffer access (axis 0)"
     ]
    },
    {
     "name": "stderr",
     "output_type": "stream",
     "text": [
      "Exception ignored in: 'cyipopt.gradient_cb'\n",
      "IndexError: Out of bounds on buffer access (axis 0)\n"
     ]
    },
    {
     "ename": "IndexError",
     "evalue": "Out of bounds on buffer access (axis 0)",
     "output_type": "error",
     "traceback": [
      "\u001b[0;31m---------------------------------------------------------------------------\u001b[0m",
      "\u001b[0;31mIndexError\u001b[0m                                Traceback (most recent call last)",
      "\u001b[0;31mIndexError\u001b[0m: Out of bounds on buffer access (axis 0)"
     ]
    },
    {
     "name": "stderr",
     "output_type": "stream",
     "text": [
      "Exception ignored in: 'cyipopt.jacobian_cb'\n",
      "IndexError: Out of bounds on buffer access (axis 0)\n"
     ]
    },
    {
     "ename": "IndexError",
     "evalue": "Out of bounds on buffer access (axis 0)",
     "output_type": "error",
     "traceback": [
      "\u001b[0;31m---------------------------------------------------------------------------\u001b[0m",
      "\u001b[0;31mIndexError\u001b[0m                                Traceback (most recent call last)",
      "\u001b[0;31mIndexError\u001b[0m: Out of bounds on buffer access (axis 0)"
     ]
    },
    {
     "name": "stdout",
     "output_type": "stream",
     "text": [
      "[0.5 0.5 0.5 0.5 0.5 0.5 0.5 0.5 0.5 0.5 0.5]\n"
     ]
    },
    {
     "name": "stderr",
     "output_type": "stream",
     "text": [
      "Exception ignored in: 'cyipopt.jacobian_cb'\n",
      "IndexError: Out of bounds on buffer access (axis 0)\n"
     ]
    }
   ],
   "source": [
    "# Initial conditions\n",
    "a_in = np.ones(h+1)/2.\n",
    "# student vector\n",
    "y_dagger_in = y_teach * (1-a_in) + y_star * a_in\n",
    "y_stud_in = np.zeros(h+1)\n",
    "y_stud_in[0] = y_stud_0\n",
    "for t in range(h):\n",
    "    y_stud_in[t+1] = y_dagger_in[t+1] * beta + y_stud_in[t] * (1-beta)\n",
    "            \n",
    "# Lower bounds - variables\n",
    "lb = np.zeros(h+1)\n",
    "\n",
    "# Upper bounds - variables\n",
    "ub = np.ones(h+1)\n",
    "\n",
    "# Lower bounds - constraints\n",
    "#cl = y_stud_in[:-1]\n",
    "cl = np.zeros(h)\n",
    "\n",
    "# Upper bounds - constraints\n",
    "#cu = y_stud_in[:-1]\n",
    "cu = np.ones(h)\n",
    "\n",
    "nlp = ipopt.problem(\n",
    "            n=len(a0),\n",
    "            m=len(cl),\n",
    "            problem_obj=LabelAttack(),\n",
    "            lb=lb,\n",
    "            ub=ub,\n",
    "            cl=cl,\n",
    "            cu=cu\n",
    "            )\n",
    "\n",
    "# Setting optimization parameters\n",
    "nlp.addOption('mu_strategy', 'adaptive')\n",
    "nlp.addOption('tol', 1e-7)\n",
    "\n",
    "# Optimization run\n",
    "a, info = nlp.solve(a_in)\n",
    "\n",
    "# Solution\n",
    "print(a)"
   ]
  },
  {
   "cell_type": "code",
   "execution_count": 19,
   "id": "considered-hearing",
   "metadata": {},
   "outputs": [
    {
     "data": {
      "text/plain": [
       "(array([0, 1, 2]), array([1, 2, 4]))"
      ]
     },
     "execution_count": 19,
     "metadata": {},
     "output_type": "execute_result"
    }
   ],
   "source": [
    "h = 2\n",
    "t = np.arange(0, h+1)\n",
    "t, 2**t"
   ]
  },
  {
   "cell_type": "code",
   "execution_count": 22,
   "id": "welsh-vehicle",
   "metadata": {},
   "outputs": [
    {
     "data": {
      "text/plain": [
       "(array([ 4,  5,  6,  7,  8,  9, 10]), array([1, 2, 3, 4, 5, 6, 7]))"
      ]
     },
     "execution_count": 22,
     "metadata": {},
     "output_type": "execute_result"
    }
   ],
   "source": [
    "h = 10\n",
    "time = np.arange(0, h+1)\n",
    "t = 3\n",
    "time_f = time[t+1:h+1]\n",
    "time_b = time[1:h+1-t]\n",
    "time_f, time_b"
   ]
  },
  {
   "cell_type": "code",
   "execution_count": 23,
   "id": "flexible-explanation",
   "metadata": {},
   "outputs": [
    {
     "data": {
      "text/plain": [
       "array([1., 1., 1., 1., 1., 1., 1., 1., 1., 1.])"
      ]
     },
     "execution_count": 23,
     "metadata": {},
     "output_type": "execute_result"
    }
   ],
   "source": [
    "np.ones(h)"
   ]
  },
  {
   "cell_type": "code",
   "execution_count": null,
   "id": "subject-booking",
   "metadata": {},
   "outputs": [],
   "source": []
  }
 ],
 "metadata": {
  "kernelspec": {
   "display_name": "py3_6_12_V2_cyipopt",
   "language": "python",
   "name": "py3_6_12_v2_cyipopt"
  },
  "language_info": {
   "codemirror_mode": {
    "name": "ipython",
    "version": 3
   },
   "file_extension": ".py",
   "mimetype": "text/x-python",
   "name": "python",
   "nbconvert_exporter": "python",
   "pygments_lexer": "ipython3",
   "version": "3.6.12"
  }
 },
 "nbformat": 4,
 "nbformat_minor": 5
}
