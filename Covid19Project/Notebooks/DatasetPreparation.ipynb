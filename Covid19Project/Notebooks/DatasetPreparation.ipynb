{
 "cells": [
  {
   "cell_type": "code",
   "execution_count": 154,
   "metadata": {},
   "outputs": [],
   "source": [
    "import pandas as pd\n",
    "import numpy as np\n",
    "from collections import Counter\n",
    "import datetime\n",
    "import re\n",
    "\n",
    "DataFrame_Raw = pd.read_excel(r'/Users/Riccardo/TriesteProject/Covid19/Datasets/SecondWave_Citofluorimetria/citofluorimetria_COVID_2.xlsx', engine='openpyxl')\n",
    "\n",
    "#DataFrame_Raw.iloc[0:20, :].style\n",
    "#DataFrame_Raw['Decesso'].value_counts()\n",
    "#DataFrame_Raw.loc[0:20, :].style"
   ]
  },
  {
   "cell_type": "markdown",
   "metadata": {},
   "source": [
    "## Dataset: quick look ##"
   ]
  },
  {
   "cell_type": "code",
   "execution_count": 173,
   "metadata": {},
   "outputs": [
    {
     "name": "stdout",
     "output_type": "stream",
     "text": [
      "Dataset shape:\n",
      "\n",
      " (783, 38) \n",
      "\n",
      "\n",
      "N. numerical values per column:\n",
      "\n",
      "                    Numerical\n",
      "morto_1_vivo_0           783\n",
      "OS_days                  783\n",
      "eta_paziente             783\n",
      "sesso                    783\n",
      "WBC/uL                   782\n",
      "Mono/uL                  770\n",
      "Linfo/uL                 783\n",
      "T CD3 %                  783\n",
      "T CD3/uL                 783\n",
      "T CD4 %                  783\n",
      "T CD4/uL                 783\n",
      "T CD8 %                  783\n",
      "T CD8/uL                 783\n",
      "CD4/CD8                  783\n",
      "NK %                     783\n",
      "NK/uL                    783\n",
      "B CD19 %                 783\n",
      "B CD19/uL                783\n",
      "T CD3/HLADR %            782\n",
      "T CD3 HLA DR/uL          782\n",
      "T CD4 HLADR %            782\n",
      "% T CD4 HLADR POS        782\n",
      "T CD8 HLADR %            782\n",
      "% T CD8 HLADR POS        782\n",
      "T NK-like %              758\n",
      "T NL-like/uL               0\n",
      "LRTE % dei CD4           775\n",
      "LRTE/uL                  776\n",
      "Mono DR %                769\n",
      "MONO DR IFI              769\n",
      "Unnamed: 34                0\n",
      "Unnamed: 35                0\n",
      "Unnamed: 36                0\n",
      "Unnamed: 37                1 \n",
      "\n",
      "\n",
      "N. nans per column:\n",
      "\n",
      "     Nans\n",
      "0      0\n",
      "1      0\n",
      "2      0\n",
      "3      0\n",
      "4      0\n",
      "5      0\n",
      "6      0\n",
      "7      0\n",
      "8      1\n",
      "9     13\n",
      "10     0\n",
      "11     0\n",
      "12     0\n",
      "13     0\n",
      "14     0\n",
      "15     0\n",
      "16     0\n",
      "17     0\n",
      "18     0\n",
      "19     0\n",
      "20     0\n",
      "21     0\n",
      "22     1\n",
      "23     1\n",
      "24     1\n",
      "25     1\n",
      "26     1\n",
      "27     1\n",
      "28    25\n",
      "29   783\n",
      "30     8\n",
      "31     7\n",
      "32    14\n",
      "33    14\n",
      "34   783\n",
      "35   783\n",
      "36   783\n",
      "37   782 \n",
      "\n",
      "\n",
      "Deaths:\n",
      "\n",
      " Counter({0: 661, 1: 122}) - 1: 15.581098339719029 % \n",
      "\n",
      "\n"
     ]
    }
   ],
   "source": [
    "print('Dataset shape:\\n\\n', DataFrame_Raw.shape, '\\n\\n')\n",
    "df_numeric_info = pd.DataFrame(DataFrame_Raw.count(axis=0, level=None, numeric_only=True), columns=['Numerical'])\n",
    "print('N. numerical values per column:\\n\\n', df_numeric_info, '\\n\\n')\n",
    "df_nans_info = pd.DataFrame(DataFrame_Raw.isna().sum().values, columns=['Nans'])\n",
    "print('N. nans per column:\\n\\n', df_nans_info, '\\n\\n')\n",
    "deaths_counter = Counter(DataFrame_Raw['morto_1_vivo_0'])\n",
    "print('Deaths:\\n\\n', deaths_counter, '- 1:', 100*(deaths_counter[1]/(deaths_counter[0]+deaths_counter[1])), '%', '\\n\\n')\n",
    "#DataFrame_Raw.loc[0:20, :].style"
   ]
  },
  {
   "cell_type": "markdown",
   "metadata": {},
   "source": [
    "## Age distribution ##"
   ]
  },
  {
   "cell_type": "code",
   "execution_count": 196,
   "metadata": {},
   "outputs": [
    {
     "data": {
      "text/plain": [
       "(386, 24)"
      ]
     },
     "execution_count": 196,
     "metadata": {},
     "output_type": "execute_result"
    }
   ],
   "source": [
    "Ages = DataFrame_Raw.loc[:, 'eta_paziente'].copy()\n",
    "Deaths = DataFrame_Raw.loc[:, 'morto_1_vivo_0'].copy()\n",
    "mask_age = Ages.values>=70\n",
    "np.sum(mask_age), np.sum(Deaths.values[mask_age==False])"
   ]
  },
  {
   "cell_type": "markdown",
   "metadata": {},
   "source": [
    "## Dates to reals ##"
   ]
  },
  {
   "cell_type": "code",
   "execution_count": 164,
   "metadata": {},
   "outputs": [
    {
     "name": "stdout",
     "output_type": "stream",
     "text": [
      "Dates in dataset:\n",
      "\n",
      " ['data_accettazione', 'data_decesso', 'data_nascita'] \n",
      "\n"
     ]
    }
   ],
   "source": [
    "## columns with dates\n",
    "DataFrame_V1 = DataFrame_Raw.copy()\n",
    "mask_dates = np.zeros(DataFrame_V1.shape[1])\n",
    "dates = []\n",
    "for i, element in enumerate(DataFrame_V1.columns):\n",
    "    mask_dates[i] = False\n",
    "    if ('data' in element):\n",
    "        mask_dates[i] = True\n",
    "        dates.append(element)\n",
    "        #print(element)\n",
    "\n",
    "print('Dates in dataset:\\n\\n', dates, '\\n')\n",
    "        \n",
    "## check future dates\n",
    "for i in range(DataFrame_V1.shape[0]):\n",
    "    for date in dates:\n",
    "        element = DataFrame_V1.loc[i, date]\n",
    "        if (element.year > 2021):\n",
    "            print(i, date, element.year)\n",
    "            \n",
    "## pre-process dates\n",
    "#ReferenceTime = datetime.datetime(1970, 1, 1, 1, 0)\n",
    "ReferenceTime = datetime.datetime(2100, 1, 1, 1, 0)\n",
    "ReferenceTime = ReferenceTime.timestamp()\n",
    "\n",
    "for i in range(DataFrame_V1.shape[0]):\n",
    "    for date in dates:\n",
    "        date_time_str = DataFrame_V1.loc[i, date]\n",
    "        #print(date_time_str)\n",
    "        if date_time_str:\n",
    "            date_time_obj = datetime.datetime.strptime(str(date_time_str), '%Y-%m-%d %H:%M:%S')\n",
    "            DataFrame_V1.loc[i, date] = float(ReferenceTime - date_time_obj.timestamp())\n",
    "\n",
    "for date in dates:\n",
    "    DataFrame_V1.loc[:, date] = pd.to_numeric(DataFrame_V1.loc[:, date])\n",
    "#DataFrame_V1.loc[0:20, :].style"
   ]
  },
  {
   "cell_type": "markdown",
   "metadata": {},
   "source": [
    "## Remove columns ##"
   ]
  },
  {
   "cell_type": "code",
   "execution_count": 175,
   "metadata": {},
   "outputs": [
    {
     "name": "stdout",
     "output_type": "stream",
     "text": [
      "N. numerical values per column:\n",
      "\n",
      "                    Numerical\n",
      "data_accettazione        783\n",
      "data_decesso             783\n",
      "morto_1_vivo_0           783\n",
      "OS_days                  783\n",
      "data_nascita             783\n",
      "eta_paziente             783\n",
      "sesso                    783\n",
      "WBC/uL                   782\n",
      "Mono/uL                  770\n",
      "Linfo/uL                 783\n",
      "T CD3 %                  783\n",
      "T CD3/uL                 783\n",
      "T CD4 %                  783\n",
      "T CD4/uL                 783\n",
      "T CD8 %                  783\n",
      "T CD8/uL                 783\n",
      "CD4/CD8                  783\n",
      "NK %                     783\n",
      "NK/uL                    783\n",
      "B CD19 %                 783\n",
      "B CD19/uL                783\n",
      "T CD3/HLADR %            782\n",
      "T CD3 HLA DR/uL          782\n",
      "T CD4 HLADR %            782\n",
      "% T CD4 HLADR POS        782\n",
      "T CD8 HLADR %            782\n",
      "% T CD8 HLADR POS        782\n",
      "T NK-like %              758\n",
      "LRTE % dei CD4           775\n",
      "LRTE/uL                  776\n",
      "Mono DR %                769\n",
      "MONO DR IFI              769 \n",
      "\n",
      "\n"
     ]
    }
   ],
   "source": [
    "## drop provenienza\n",
    "DataFrame_V2 = DataFrame_V1.copy()\n",
    "DataFrame_V2.drop(columns=['provenienza'], inplace=True)\n",
    "DataFrame_V2.shape\n",
    "\n",
    "## drop columns with too many nans\n",
    "n_nans_threshold = DataFrame_V2.shape[0] / 2.\n",
    "mask_columns = DataFrame_V2.count(axis=0, level=None, numeric_only=True).values < n_nans_threshold\n",
    "mask_columns\n",
    "DataFrame_V2.drop(columns=DataFrame_V2.columns[mask_columns], inplace=True)\n",
    "\n",
    "## check\n",
    "df_numeric_info = pd.DataFrame(DataFrame_V2.count(axis=0, level=None, numeric_only=True), columns=['Numerical'])\n",
    "print('N. numerical values per column:\\n\\n', df_numeric_info, '\\n\\n')"
   ]
  },
  {
   "cell_type": "markdown",
   "metadata": {},
   "source": [
    "## Insert ID column ##"
   ]
  },
  {
   "cell_type": "code",
   "execution_count": 181,
   "metadata": {},
   "outputs": [],
   "source": [
    "id_values = list(map(lambda x: str(x), np.arange(1, DataFrame_Raw.shape[0]+1, 1)))"
   ]
  },
  {
   "cell_type": "code",
   "execution_count": 183,
   "metadata": {},
   "outputs": [
    {
     "data": {
      "text/plain": [
       "data_accettazione    783\n",
       "data_decesso         783\n",
       "morto_1_vivo_0       783\n",
       "OS_days              783\n",
       "data_nascita         783\n",
       "eta_paziente         783\n",
       "sesso                783\n",
       "WBC/uL               782\n",
       "Mono/uL              770\n",
       "Linfo/uL             783\n",
       "T CD3 %              783\n",
       "T CD3/uL             783\n",
       "T CD4 %              783\n",
       "T CD4/uL             783\n",
       "T CD8 %              783\n",
       "T CD8/uL             783\n",
       "CD4/CD8              783\n",
       "NK %                 783\n",
       "NK/uL                783\n",
       "B CD19 %             783\n",
       "B CD19/uL            783\n",
       "T CD3/HLADR %        782\n",
       "T CD3 HLA DR/uL      782\n",
       "T CD4 HLADR %        782\n",
       "% T CD4 HLADR POS    782\n",
       "T CD8 HLADR %        782\n",
       "% T CD8 HLADR POS    782\n",
       "T NK-like %          758\n",
       "LRTE % dei CD4       775\n",
       "LRTE/uL              776\n",
       "Mono DR %            769\n",
       "MONO DR IFI          769\n",
       "ID                   783\n",
       "dtype: int64"
      ]
     },
     "execution_count": 183,
     "metadata": {},
     "output_type": "execute_result"
    }
   ],
   "source": [
    "DataFrame_V3 = DataFrame_V2.copy()\n",
    "DataFrame_V3.insert(loc=DataFrame_V3.shape[1], column='ID', value=id_values)\n",
    "DataFrame_V3.count(axis=0, level=None, numeric_only=False)"
   ]
  },
  {
   "cell_type": "markdown",
   "metadata": {},
   "source": [
    "## Save dataset ##"
   ]
  },
  {
   "cell_type": "code",
   "execution_count": 182,
   "metadata": {},
   "outputs": [],
   "source": [
    "DataFrame_V3.to_csv(r'/Users/Riccardo/TriesteProject/Covid19/Datasets/SecondWave_Citofluorimetria/citofluorimetria_COVID_2_cleaned.csv', index = False)"
   ]
  }
 ],
 "metadata": {
  "kernelspec": {
   "display_name": "Python [conda env:py36]",
   "language": "python",
   "name": "conda-env-py36-py"
  },
  "language_info": {
   "codemirror_mode": {
    "name": "ipython",
    "version": 3
   },
   "file_extension": ".py",
   "mimetype": "text/x-python",
   "name": "python",
   "nbconvert_exporter": "python",
   "pygments_lexer": "ipython3",
   "version": "3.6.12"
  }
 },
 "nbformat": 4,
 "nbformat_minor": 4
}
